{
 "cells": [
  {
   "cell_type": "code",
   "execution_count": 1,
   "metadata": {},
   "outputs": [
    {
     "name": "stderr",
     "output_type": "stream",
     "text": [
      "c:\\users\\marius\\miniconda3\\lib\\site-packages\\h5py\\__init__.py:36: FutureWarning: Conversion of the second argument of issubdtype from `float` to `np.floating` is deprecated. In future, it will be treated as `np.float64 == np.dtype(float).type`.\n",
      "  from ._conv import register_converters as _register_converters\n"
     ]
    }
   ],
   "source": [
    "import numpy as np\n",
    "import pandas as pd\n",
    "import time\n",
    "import mxnet as mx\n",
    "import os\n",
    "from mxnet import gluon, gpu, nd, kv\n",
    "from mxnet.gluon.model_zoo import vision\n",
    "from mxnet.gluon import nn\n",
    "\n",
    "def tic():\n",
    "    return time.time()\n",
    "def toc(t0):\n",
    "    return time.time() - t0\n",
    "\n",
    "pretrained = False\n",
    "\n",
    "net = vision.alexnet(pretrained=pretrained)\n",
    "if pretrained:    \n",
    "    net.collect_params().reset_ctx(mx.gpu())\n",
    "else:\n",
    "    #net.collect_params().initialize(force_reinit=True, ctx = mx.gpu())\n",
    "    #net.load_parameters(\"Z:/code/mxTrain/results/alexnet-pre-adv0_20.pth\", ctx=mx.gpu()) \n",
    "    #net.load_parameters(\"Z:/code/mxTrain/results/alexnet-adv0_35.pth\", ctx=mx.gpu()) \n",
    "    net.load_parameters(\"Z:/code/mxTrain/results/alexnet-adv0_35.pth\", ctx=mx.gpu()) \n",
    "    #net.load_parameters(\"Z:/code/mxTrain/results/vgg-adv0_35.pth\", ctx=mx.gpu()) \n",
    "    #net.load_parameters(\"Z:/code/mxTrain/results/vgg-adv1_35.pth\", ctx=mx.gpu()) "
   ]
  },
  {
   "cell_type": "code",
   "execution_count": 2,
   "metadata": {},
   "outputs": [],
   "source": [
    "#nputs = np.load('D:/Drive/CODE/Marius/pytorchMP/natimg2800_PyTorch.npy')\n",
    "#nputs = (inputs/255. - .5)/.225\n",
    "#mg = nd.array(inputs)\n",
    "\n",
    "import cv2\n",
    "# low pass inputs\n",
    "#inputs = np.load('D:/Drive/CODE/Marius/pytorchMP/natimg2800_PyTorch.npy')\n",
    "\n",
    "inputs = np.load('D:/Drive/CODE/Marius/mxnextMP/neural/images_natimg.npy')\n",
    "\n",
    "inputs = np.transpose(inputs, [0, 2, 3, 1])\n",
    "\n",
    "for j in range(0, 2800):\n",
    "    im0 = inputs[j,:,:,:]\n",
    "    small = cv2.resize(im0, (56,56))\n",
    "    inputs[j,:,:,:] = cv2.resize(small, (224,224))\n",
    "\n",
    "inputs = np.transpose(inputs, [0, 3, 1, 2])   \n",
    "inputs = (inputs/255. - .5)/.225\n",
    "\n",
    "img = nd.array(inputs)"
   ]
  },
  {
   "cell_type": "code",
   "execution_count": 3,
   "metadata": {},
   "outputs": [
    {
     "name": "stdout",
     "output_type": "stream",
     "text": [
      "(2800, 2800)\n",
      "0 0.2780332580987195\n",
      "1 0.3619110784311006\n",
      "2 0.41592062581383055\n",
      "3 0.44553788094145225\n",
      "4 0.4313853018544633\n",
      "5 0.38738451666206136\n",
      "6 0.3161830095536322\n",
      "7 0.30030706523095846\n"
     ]
    }
   ],
   "source": [
    "batch_size = 28*2\n",
    "n_batches  = int(2800/batch_size)\n",
    "\n",
    "h = []\n",
    "\n",
    "def copyfeat(m, i, o): output.append(o)\n",
    "\n",
    "#nLay = [4, 9, 16, 23, 30]\n",
    "\n",
    "#nLay = [1, 3, 5, 7]\n",
    "\n",
    "nLay = list(range(0,8))\n",
    "#nLay = [4]\n",
    "\n",
    "for j in nLay:\n",
    "    h.append(net.features[j].register_forward_hook(copyfeat))   \n",
    "\n",
    "funits = []\n",
    "for j in range(0,n_batches):\n",
    "    output = []\n",
    "    \n",
    "    iu = j*batch_size + np.arange(0,batch_size)\n",
    "    im0 = img[iu,:,:,:].copyto(mx.gpu())\n",
    "    \n",
    "    mo = net(im0)\n",
    "\n",
    "    for lay in range(0, len(nLay)):        \n",
    "        lact = output[lay].asnumpy()        \n",
    "        \n",
    "        icent1 = np.floor(lact.shape[2] /2) - np.floor(lact.shape[2] /6)\n",
    "        icent2 = np.floor(lact.shape[2] /2) - np.floor(lact.shape[2] /6)\n",
    "        \n",
    "        di    = np.floor(lact.shape[2]/3)\n",
    "        \n",
    "        inds1  = icent1 + np.arange(-di,di)\n",
    "        inds2  = icent2 + np.arange(-di,di)\n",
    "        \n",
    "        inds1 = inds1.astype(dtype=np.int32)        \n",
    "        inds2 = inds2.astype(dtype=np.int32)        \n",
    "        \n",
    "        lact = lact[np.ix_(np.arange(0,lact.shape[0]), np.arange(0,lact.shape[1]), inds1,inds2)]        \n",
    "        \n",
    "        units = np.reshape(lact, (batch_size, int(np.floor(lact.size/batch_size))))\n",
    "        if j==0:\n",
    "            funits.append(np.zeros((2800, units.shape[1]),dtype=np.float32))\n",
    "        funits[lay][iu, :] = units\n",
    "        \n",
    "for j in range(0,len(h)):   \n",
    "    h[j].detach()\n",
    "\n",
    "kdat = np.load('D:/Drive/CODE/Marius/pytorchMP/ssm_v1.npy')\n",
    "print(kdat.shape)\n",
    "\n",
    "for lay in range(0,len(nLay)):\n",
    "    flay = funits[lay] - np.mean(funits[lay], axis=0)\n",
    "    flay = flay @ np.transpose(flay)    \n",
    "    X = np.corrcoef(flay.flatten(),kdat.flatten())\n",
    "    print(lay, X[0,1])"
   ]
  },
  {
   "cell_type": "code",
   "execution_count": 4,
   "metadata": {},
   "outputs": [
    {
     "name": "stdout",
     "output_type": "stream",
     "text": [
      "0 [-0.84976091 -2.36780194]\n",
      "1 [-1.26455875 -0.5398316 ]\n",
      "2 [-1.03399408 -1.68237032]\n",
      "3 [-1.20330607 -1.02048327]\n",
      "4 [-1.10219026 -1.41441845]\n",
      "5 [-1.07952329 -1.47927808]\n",
      "6 [-0.96481574 -2.00557627]\n",
      "7 [-1.0481849  -1.60994008]\n"
     ]
    },
    {
     "data": {
      "image/png": "[encoded data removed]",
      "text/plain": [
       "<Figure size 432x288 with 1 Axes>"
      ]
     },
     "metadata": {},
     "output_type": "display_data"
    }
   ],
   "source": [
    "import scipy.linalg\n",
    "import matplotlib as mp\n",
    "import matplotlib.pyplot as plt\n",
    "%matplotlib inline\n",
    "\n",
    "sf   = np.zeros((2800,len(flay)), dtype=np.float32)\n",
    "x    = np.arange(11,500)\n",
    "logx = np.log(x)\n",
    "    \n",
    "for lay in range(0,len(funits)):\n",
    "    flay = funits[lay] - funits[lay].mean(axis=0)\n",
    "    flay = flay @ np.transpose(flay)\n",
    "    u,si,v = scipy.linalg.svd(flay, full_matrices=False)    \n",
    "    si     = si/ sum(si)\n",
    "    sf[:,lay]  = si\n",
    "    \n",
    "\n",
    "for lay in range(0,len(funits)):    \n",
    "    logy = np.log(sf[11:500,lay])\n",
    "    coeffs = np.polyfit(logx,logy,deg=1)\n",
    "    poly = np.poly1d(coeffs)\n",
    "    yfit = lambda x: np.exp(poly(np.log(x)))\n",
    "    plt.loglog(sf[0:2000,lay])\n",
    "    print(lay, coeffs)\n",
    "\n",
    "plt.tight_layout()\n",
    "plt.grid(True)\n",
    "plt.show() \n"
   ]
  },
  {
   "cell_type": "code",
   "execution_count": 2,
   "metadata": {},
   "outputs": [
    {
     "name": "stdout",
     "output_type": "stream",
     "text": [
      "0.6041 0.8187\n"
     ]
    }
   ],
   "source": [
    "import mxUtils, imp\n",
    "imp.reload(mxUtils)\n",
    "\n",
    "batch_size = 32\n",
    "data_val_iter = mx.io.ImageRecordIter(\n",
    "    path_imgrec=\"H:/img12/val.rec\", # the target record file\n",
    "    #path_imgrec=\"H:/im2rec2012/val.rec\", # the target record file\n",
    "    data_shape=(3, 224, 224), # output data shape. An 227x227 region will be cropped from the original image.\n",
    "    batch_size= batch_size, # number of samples per batch    \n",
    "    resize  = 256,\n",
    "    mean_r = .485* 255.,\n",
    "    mean_g = .456* 255.,\n",
    "    mean_b = .406* 255.,\n",
    "    std_r  =.229* 255.,\n",
    "    std_g  =.224* 255.,\n",
    "    std_b  =.225* 255., \n",
    "    )\n",
    "\n",
    "vtop1, vtop5 = mxUtils.checkTest(net, data_val_iter, 64*4)\n",
    "\n",
    "print('%0.4f %0.4f'%(vtop1.mean(), vtop5.mean()))"
   ]
  }
 ],
 "metadata": {
  "kernelspec": {
   "display_name": "Python 3",
   "language": "python",
   "name": "python3"
  },
  "language_info": {
   "codemirror_mode": {
    "name": "ipython",
    "version": 3
   },
   "file_extension": ".py",
   "mimetype": "text/x-python",
   "name": "python",
   "nbconvert_exporter": "python",
   "pygments_lexer": "ipython3",
   "version": "3.6.5"
  }
 },
 "nbformat": 4,
 "nbformat_minor": 2
}
