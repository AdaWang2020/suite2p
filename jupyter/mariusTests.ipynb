{
 "cells": [
  {
   "cell_type": "code",
   "execution_count": null,
   "metadata": {},
   "outputs": [],
   "source": [
    "import numpy as np\n",
    "from scipy import signal\n",
    "import time\n",
    "from numpy import random as rnd\n",
    "from scipy.ndimage import filters\n",
    "\n",
    "s1 = rnd.normal(0, 1, (1000,512,512))\n",
    "sig = [2.]\n",
    "\n",
    "axes = (1,)\n",
    "print(len(axes))"
   ]
  },
  {
   "cell_type": "code",
   "execution_count": 30,
   "metadata": {},
   "outputs": [
    {
     "name": "stdout",
     "output_type": "stream",
     "text": [
      "18.822660207748413\n"
     ]
    }
   ],
   "source": [
    "tstart = time.time()\n",
    "sfilt = filters.gaussian_filter(s1, [0., 10., 10.],  mode='reflect')\n",
    "tend = time.time()\n",
    "\n",
    "print(tend - tstart)"
   ]
  },
  {
   "cell_type": "code",
   "execution_count": 24,
   "metadata": {},
   "outputs": [
    {
     "data": {
      "image/png": "[encoded data removed]",
      "text/plain": [
       "<Figure size 432x288 with 1 Axes>"
      ]
     },
     "metadata": {},
     "output_type": "display_data"
    }
   ],
   "source": [
    "import matplotlib.pyplot as plt\n",
    "\n",
    "plt.imshow(sfilt[:10,:10,0], aspect='auto')\n",
    "plt.show()"
   ]
  },
  {
   "cell_type": "code",
   "execution_count": 14,
   "metadata": {},
   "outputs": [
    {
     "name": "stdout",
     "output_type": "stream",
     "text": [
      "1\n",
      "(512, 1000, 512)\n",
      "(16, 1, 1)\n",
      "(16, 1, 1)\n",
      "[1 0 2]\n",
      "24.87048602104187\n"
     ]
    }
   ],
   "source": [
    "sdim = s1.ndim\n",
    "sig = np.array(sig).astype(np.float32)\n",
    "\n",
    "\n",
    "sfilt = s1\n",
    "for i in range(0,len(axes)):\n",
    "    #sfilt = s1\n",
    "    dims = np.arange(-1,sdim)\n",
    "    dims[0] = axes[i]\n",
    "    dims = np.delete(dims, [axes[i]+1])\n",
    "\n",
    "    sfilt = np.transpose(sfilt, dims)\n",
    "    print(sfilt.shape)\n",
    "    \n",
    "    ns = sfilt.shape[0]\n",
    "    flat = np.ones((ns,),np.float32)\n",
    "    for j in range(0,sdim-1):\n",
    "        flat = np.expand_dims(flat,axis=j+1)\n",
    "\n",
    "    tmax = np.ceil(4*sig[i])\n",
    "    dt = np.arange(-tmax,tmax)\n",
    "    gaus = np.exp(-dt**2 / (2*sig[i]**2))\n",
    "    gaus /= gaus.sum()\n",
    "    for j in range(0,sdim-1):\n",
    "        gaus = np.expand_dims(gaus,axis=j+1)\n",
    "    print(gaus.shape)\n",
    "    \n",
    "    \n",
    "    \n",
    "    sfilt = signal.convolve(sfilt, gaus, mode='same')\n",
    "    snorm = signal.convolve(flat, gaus, mode='same')\n",
    "    \n",
    "    \n",
    "    print(sfilt.shape)\n",
    "    \n",
    "    if sfilt.shape[0] > ns:\n",
    "        icent = int(np.floor(sfilt.shape[0]/2) - np.floor(ns/2))\n",
    "        inds  = (icent + np.arange(0,ns)).astype(np.int32)\n",
    "        sout = sfilt[inds,:,:]\n",
    "        snorm = snorm[inds[0]:inds[-1]+1]\n",
    "\n",
    "    #sout = sout / snorm\n",
    "    dims = np.arange(1,sdim)\n",
    "    dims = np.insert(dims, axes[i], 0)\n",
    "    print(dims)\n",
    "    sfilt = np.transpose(sout, dims)\n",
    "    \n",
    "    \n",
    "\n",
    "tend = time.time()\n",
    "\n",
    "print(tend - tstart)"
   ]
  }
 ],
 "metadata": {
  "kernelspec": {
   "display_name": "Python 3",
   "language": "python",
   "name": "python3"
  },
  "language_info": {
   "codemirror_mode": {
    "name": "ipython",
    "version": 3
   },
   "file_extension": ".py",
   "mimetype": "text/x-python",
   "name": "python",
   "nbconvert_exporter": "python",
   "pygments_lexer": "ipython3",
   "version": "3.6.5"
  }
 },
 "nbformat": 4,
 "nbformat_minor": 2
}
