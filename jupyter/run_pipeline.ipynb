{
 "cells": [
  {
   "cell_type": "code",
   "execution_count": 1,
   "metadata": {},
   "outputs": [
    {
     "name": "stdout",
     "output_type": "stream",
     "text": [
      "cells: 399, cost: 0.6642, time: 36.5712\n",
      "cells: 732, cost: 0.6518, time: 78.3943\n",
      "cells: 1047, cost: 0.6449, time: 124.8621\n",
      "cells: 1276, cost: 0.6410, time: 174.8913\n",
      "cells: 1405, cost: 0.6390, time: 225.4989\n",
      "cells: 1471, cost: 0.6380, time: 276.9393\n",
      "cells: 1503, cost: 0.6376, time: 328.0886\n",
      "1000\n",
      "2000\n",
      "3000\n",
      "4000\n",
      "5000\n",
      "6000\n",
      "7000\n",
      "8000\n",
      "9000\n",
      "10000\n",
      "993.911821603775\n"
     ]
    }
   ],
   "source": [
    "# load binary file\n",
    "import numpy as np\n",
    "import time, suite2p\n",
    "\n",
    "def tic():\n",
    "    return time.time()\n",
    "def toc(i0):\n",
    "    return time.time() - i0\n",
    "\n",
    "ops = {\n",
    "    'diameter': 14,\n",
    "    'tau': 2.,\n",
    "     'fs': 2.5,\n",
    "      }\n",
    "\n",
    "# get defaults options\n",
    "ops0 = suite2p.default_ops()\n",
    "\n",
    "# combine with user options\n",
    "ops = {**ops0, **ops} \n",
    "\n",
    "i0 = tic()\n",
    "ops1 = suite2p.main(ops)\n",
    "print(toc(i0))"
   ]
  },
  {
   "cell_type": "code",
   "execution_count": null,
   "metadata": {},
   "outputs": [],
   "source": [
    "import matplotlib.pyplot as plt\n",
    "from matplotlib.colors import hsv_to_rgb\n",
    "%matplotlib inline\n",
    "\n",
    "plt.figure(figsize=(12,12))\n",
    "plt.imshow(ops1[0]['Vcorr'], aspect='auto')\n",
    "plt.show()"
   ]
  },
  {
   "cell_type": "code",
   "execution_count": null,
   "metadata": {},
   "outputs": [],
   "source": [
    "import scipy.stats as stats\n",
    "plt.figure(figsize=(12,12))\n",
    "dF = F - Fneu\n",
    "dF = stats.zscore(dF, axis=1)\n",
    "\n",
    "plt.plot(dF[:10, :].transpose())\n",
    "#plt.imshow(dF, aspect='auto', vmin=-2, vmax=5)\n",
    "plt.show()"
   ]
  },
  {
   "cell_type": "code",
   "execution_count": null,
   "metadata": {},
   "outputs": [],
   "source": [
    "Lyc = ops['Lyc']\n",
    "Lxc = ops['Lxc']\n",
    "\n",
    "r = np.random.random((len(stat),))\n",
    "fig = plt.figure(figsize=(12,12))\n",
    "ax = fig.add_subplot(1, 1, 1)\n",
    "rgb = celldetect.drawClusters(r, mPix.transpose(), mLam.transpose(),Lyc,Lxc)    \n",
    "ax.imshow(rgb)       "
   ]
  },
  {
   "cell_type": "code",
   "execution_count": null,
   "metadata": {},
   "outputs": [],
   "source": [
    "def removeBadFrames(ops,F,Fneu):\n",
    "    '''add nan's when bad frames occur (high movement frames) '''\n",
    "    return F,Fneu\n",
    "\n",
    "def activityStat(stat,F,Fneu):\n",
    "    dF = F - 0.7 * Fneu\n",
    "    sd = F.std(axis=1)\n",
    "    sdN = Fneu.std(axis=1)\n",
    "    std_cell = sd / sdN\n",
    "    skew = np.skew(dF,axis=1)\n",
    "    for n in range(ncells):\n",
    "    return stat"
   ]
  },
  {
   "cell_type": "code",
   "execution_count": null,
   "metadata": {},
   "outputs": [],
   "source": [
    "print(stat[2]['radius'])\n",
    "inner_radius = 2\n",
    "expanded_cell_pix = ndimage.grey_dilation(cell_pix, (inner_radius,inner_radius))\n",
    "plt.subplot(121)\n",
    "plt.imshow(cell_pix[:100,:100])\n",
    "plt.subplot(122)\n",
    "plt.imshow(expanded_cell_pix[:100,:100])\n",
    "plt.show()\n",
    "print(expanded_cell_pix[:100,:100])"
   ]
  },
  {
   "cell_type": "code",
   "execution_count": null,
   "metadata": {},
   "outputs": [],
   "source": [
    "n+=1\n",
    "plt.imshow(neuropil_masks[n,:,:])\n",
    "plt.plot(stat[n]['med'][1],stat[n]['med'][0],'o')\n",
    "neuropil_masks[n,:,:].sum()"
   ]
  },
  {
   "cell_type": "code",
   "execution_count": null,
   "metadata": {},
   "outputs": [],
   "source": [
    "n = 410\n",
    "mask = np.zeros((Ly,Lx))\n",
    "overlap = stat[n]['overlap']\n",
    "ipix = stat[n]['ipix'][~overlap]\n",
    "ypix = stat[n]['ypix'][~overlap]\n",
    "xpix = stat[n]['xpix'][~overlap]\n",
    "lam  = stat[n]['lam'][~overlap]\n",
    "lam = lam / lam.sum()\n",
    "print(lam)\n",
    "mask[ypix,xpix] = lam\n",
    "params = utils.fitMVGaus(ypix,xpix,lam,2)\n",
    "plt.imshow(mask)\n",
    "plt.plot(params[3][:,1],params[3][:,0])\n",
    "#plt.plot(ypix[lam>.001],xpix[lam>.001],'.')\n",
    "mu = params[0]\n",
    "plt.xlim([mu[1]-10,mu[1]+10])\n",
    "plt.ylim([mu[0]-10,mu[0]+10])\n",
    "plt.show()"
   ]
  }
 ],
 "metadata": {
  "kernelspec": {
   "display_name": "Python 3",
   "language": "python",
   "name": "python3"
  },
  "language_info": {
   "codemirror_mode": {
    "name": "ipython",
    "version": 3
   },
   "file_extension": ".py",
   "mimetype": "text/x-python",
   "name": "python",
   "nbconvert_exporter": "python",
   "pygments_lexer": "ipython3",
   "version": "3.6.5"
  }
 },
 "nbformat": 4,
 "nbformat_minor": 2
}
