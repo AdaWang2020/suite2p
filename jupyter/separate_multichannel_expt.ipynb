{
 "cells": [
  {
   "cell_type": "code",
   "execution_count": 1,
   "metadata": {},
   "outputs": [
    {
     "name": "stderr",
     "output_type": "stream",
     "text": [
      "/root/anaconda3/lib/python3.6/site-packages/h5py/__init__.py:36: FutureWarning: Conversion of the second argument of issubdtype from `float` to `np.floating` is deprecated. In future, it will be treated as `np.float64 == np.dtype(float).type`.\n",
      "  from ._conv import register_converters as _register_converters\n"
     ]
    }
   ],
   "source": [
    "import numpy as np\n",
    "import sys\n",
    "import os\n",
    "\n",
    "# add path to github folder with suite2p\n",
    "sys.path.append(\"/github/suite2p/suite2p/\")\n",
    "import utils, register, chan2detect\n",
    "\n",
    "dat = {}\n",
    "dat['TX28'] = {}\n",
    "dat['TX29'] = {}\n",
    "dat['TX32'] = {}\n",
    "dat['GAD3'] = {}\n",
    "dat['GAD4'] = {}\n",
    "dat['TX28'] = {'datexp': [], 'blk': []}\n",
    "dat['TX29'] = {'datexp': [], 'blk': []}\n",
    "dat['TX32'] = {'datexp': [], 'blk': []}\n",
    "dat['GAD3'] = {'datexp': [], 'blk': []}\n",
    "dat['GAD4'] = {'datexp': [], 'blk': []}\n",
    "\n",
    "dat['TX28']['datexp'] = ['2018_10_31', '2018_11_01', '2018_11_02', '2018_11_14', '2018_12_17', '2018_12_18']\n",
    "dat['TX29']['datexp'] = ['2018_11_06', '2018_11_07', '2018_11_08', '2018_11_09', '2018_11_12']\n",
    "dat['TX32']['datexp'] = ['2018_11_08', '2018_11_09', '2018_11_12', '2018_11_13', '2018_11_14', '2018_12_18', '2018_12_19']\n",
    "dat['GAD3']['datexp'] = ['2018_11_29', '2018_12_03', '2018_12_04', '2018_12_05', '2018_12_19', '2018_12_20']\n",
    "dat['GAD4']['datexp'] = ['2018_12_03', '2018_12_04', '2018_12_05', '2018_12_18', '2018_12_19', '2018_12_20']\n",
    "\n",
    "dat['TX28']['blk'] = ['1', '1', '2', '1', '1', '1']\n",
    "dat['TX29']['blk'] = ['2', '1', '1', '2', '1']\n",
    "dat['TX32']['blk'] = ['1', '1', '1', '1', '1', '1', '1']\n",
    "dat['GAD3']['blk'] = ['2', '1', '2', '1', '1', '1']\n",
    "dat['GAD3']['redblk'] = ['1', '3', '3', '3', '2', '2']\n",
    "dat['GAD4']['blk'] = ['1', '1', '1', '1', '1', '2']\n",
    "dat['GAD4']['redblk'] = ['3', '2', '2', '2', '2', '3']\n"
   ]
  },
  {
   "cell_type": "code",
   "execution_count": null,
   "metadata": {
    "scrolled": false
   },
   "outputs": [
    {
     "name": "stdout",
     "output_type": "stream",
     "text": [
      "[5]\n",
      "/home/carsen/dm11/data/PROC/GAD3/2018_12_20/1/\n",
      "/home/carsen/nas/EXP/GAD3/2018_12_20/2/\n",
      "Found 31 tifs\n",
      "2776\n",
      "/media/carsen/SSD/BIN/suite2p/plane0/data_raw.bin\n",
      "using reference frame given\n",
      "will not compute registration metrics\n",
      "registered second channel in time 65.78\n",
      "/media/carsen/SSD/BIN/suite2p/plane1/data_raw.bin\n",
      "using reference frame given\n",
      "will not compute registration metrics\n",
      "registered second channel in time 65.41\n",
      "/media/carsen/SSD/BIN/suite2p/plane2/data_raw.bin\n",
      "using reference frame given\n",
      "will not compute registration metrics\n",
      "registered second channel in time 65.64\n",
      "/media/carsen/SSD/BIN/suite2p/plane3/data_raw.bin\n",
      "using reference frame given\n",
      "will not compute registration metrics\n",
      "registered second channel in time 64.58\n",
      "/media/carsen/SSD/BIN/suite2p/plane4/data_raw.bin\n",
      "using reference frame given\n",
      "will not compute registration metrics\n"
     ]
    }
   ],
   "source": [
    "import register\n",
    "\n",
    "mice = ['GAD3', 'GAD4']\n",
    "datelist = [[5], [5]]\n",
    "\n",
    "\n",
    "for m,mouse in enumerate(mice):\n",
    "    dates = dat[mouse]['datexp']\n",
    "    print(datelist[m])\n",
    "    for k in datelist[m]:\n",
    "        date = dat[mouse]['datexp'][k]\n",
    "        blk  = int(dat[mouse]['blk'][k])\n",
    "        redblk  = int(dat[mouse]['redblk'][k])\n",
    "                \n",
    "        # green experiment save_path0\n",
    "        froot = \"/home/carsen/dm11/data/PROC/%s/%s/%d/\"%(mouse, date, blk)\n",
    "        print(froot)\n",
    "        ops1 = np.load(os.path.join(froot, \"suite2p/ops1.npy\"))\n",
    "        \n",
    "        # 2-channel experiment raw data saved here\n",
    "        data_path = [ \"/home/carsen/nas/EXP/%s/%s/%d/\"%(mouse, date, redblk) ]\n",
    "        print(data_path[0])\n",
    "        ops = ops1[0].copy()\n",
    "        ops['fast_disk'] = []\n",
    "        ops['save_path0'] = \"/media/carsen/SSD/BIN/\" # save binary locally on SSD\n",
    "        ops['data_path'] = data_path\n",
    "        ops['nchannels'] = 2\n",
    "        ops['functional_chan'] = 1\n",
    "        ops['keep_movie_raw'] = True\n",
    "        \n",
    "        # compute binaries for 2 channels       \n",
    "        ops2 = utils.tiff_to_binary(ops)\n",
    "        \n",
    "        for iplane in range(0,len(ops1)):\n",
    "            #ops2 = np.load(\"/media/carsen/SSD/BIN/suite2p/plane%d/ops.npy\"%iplane).item()\n",
    "            #opsOut = register.register_binary(ops2, ops1[iplane]['refImg'])\n",
    "            \n",
    "            opsOut = register.register_binary(ops2[iplane], ops1[iplane]['refImg'])\n",
    "            ops1[iplane]['meanImg_chan2'] = opsOut['meanImg_chan2']\n",
    "            stat = np.load(os.path.join(froot, \"suite2p/plane%d/stat.npy\"%iplane))\n",
    "            ops1[iplane]['chan2_thres'] = 0.65\n",
    "            ops1[iplane],redcell = chan2detect.detect(ops1[iplane],stat)\n",
    "            np.save(os.path.join(froot, \"suite2p/plane%d/ops.npy\"%iplane), ops1[iplane])\n",
    "            np.save(os.path.join(froot, \"suite2p/plane%d/redcell.npy\"%iplane), redcell)\n",
    "            ops1[iplane]['save_path'] = os.path.join(froot, \"suite2p/plane%d\"%iplane)\n",
    "            ops1[iplane]['save_path0'] = os.path.join(froot)\n",
    "        utils.combined(ops1)\n",
    "        \n",
    "        "
   ]
  }
 ],
 "metadata": {
  "kernelspec": {
   "display_name": "Python 3",
   "language": "python",
   "name": "python3"
  },
  "language_info": {
   "codemirror_mode": {
    "name": "ipython",
    "version": 3
   },
   "file_extension": ".py",
   "mimetype": "text/x-python",
   "name": "python",
   "nbconvert_exporter": "python",
   "pygments_lexer": "ipython3",
   "version": "3.6.5"
  }
 },
 "nbformat": 4,
 "nbformat_minor": 2
}
