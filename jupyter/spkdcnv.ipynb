{
 "cells": [
  {
   "cell_type": "code",
   "execution_count": null,
   "metadata": {},
   "outputs": [],
   "source": [
    "import numpy as np\n",
    "import matplotlib.pyplot as plt\n",
    "from numpy import random as rnd\n",
    "from scipy import signal\n",
    "import dcnv, imp\n",
    "imp.reload(dcnv)\n",
    "\n",
    "# oasis needs some parameters\n",
    "ops = {\n",
    "        'tau':  1., # this is the only parameter used for deconvolution per se        \n",
    "        'fs': 10.,  # sampling rate        \n",
    "        'baseline': 'maximin', # baselining mode\n",
    "        'win_baseline': 60., # window for maximin\n",
    "        'sig_baseline': 10., # smoothing constant for gaussian filter \n",
    "        'prctile_baseline': 8.,# smoothing constant for gaussian filter        \n",
    "        'neucoeff': .7,  # neuropil coefficient \n",
    "        'neumax': 1.,  # maximum neuropil coefficient (not implemented)\n",
    "        'niterneu': 5, # number of iterations when the neuropil coefficient is estimated (not implemented)\n",
    "      }\n",
    "\n",
    "# simulate some data\n",
    "NT = 20000\n",
    "p = .01\n",
    "ncells = 100\n",
    "sig_noise = 0.35\n",
    "\n",
    "sp = p - rnd.uniform(0,1,(NT,ncells))>0\n",
    "kern = np.exp(-np.arange(100.)/(ops['fs'] * ops['tau']))\n",
    "\n",
    "F = signal.convolve(np.expand_dims(kern, axis = 1), sp, mode='full')\n",
    "\n",
    "F = F[:NT, :]      \n",
    "\n",
    "F = F + rnd.normal(0,sig_noise,(NT,ncells))\n",
    "F = np.transpose(F)\n",
    "\n",
    "plt.imshow(F[:,:1000], aspect='auto')\n",
    "plt.show()\n",
    "\n",
    "#plt.imshow(np.transpose(F), aspect='auto')\n",
    "plt.plot(F[0,:1000])\n",
    "plt.show()"
   ]
  },
  {
   "cell_type": "code",
   "execution_count": null,
   "metadata": {},
   "outputs": [],
   "source": [
    "# run deconvolution\n",
    "s = dcnv.oasis(F, ops)\n",
    "\n",
    "# compare with simulated ground truth spike trains\n",
    "b = np.zeros((ncells,))\n",
    "for i in range(0,ncells):\n",
    "    A = np.corrcoef(sp[:,i], s[i, :20000])\n",
    "    b[i] = A[0,1]\n",
    "    \n",
    "print('correlation with ground truth %2.4f'%b.mean())\n"
   ]
  }
 ],
 "metadata": {
  "kernelspec": {
   "display_name": "Python 3",
   "language": "python",
   "name": "python3"
  },
  "language_info": {
   "codemirror_mode": {
    "name": "ipython",
    "version": 3
   },
   "file_extension": ".py",
   "mimetype": "text/x-python",
   "name": "python",
   "nbconvert_exporter": "python",
   "pygments_lexer": "ipython3",
   "version": "3.6.5"
  }
 },
 "nbformat": 4,
 "nbformat_minor": 2
}
