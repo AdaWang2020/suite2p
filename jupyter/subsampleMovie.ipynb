{
 "cells": [
  {
   "cell_type": "code",
   "execution_count": null,
   "metadata": {},
   "outputs": [],
   "source": [
    "import register, suite2p\n",
    "\n",
    "ops = suite2p.default_ops()\n",
    "ops['subfolders'] = ('4')\n",
    "ops['look_one_level_down'] = 0\n",
    "ops['data_path'] = 'C:\\Drive\\suite2python\\data'\n",
    "\n",
    "fs = register.get_tif_list(ops)\n",
    "\n",
    "fs"
   ]
  },
  {
   "cell_type": "code",
   "execution_count": 27,
   "metadata": {},
   "outputs": [],
   "source": [
    "from skimage import io\n",
    "import numpy as np\n",
    "import os\n",
    "\n",
    "k = 0\n",
    "for file in fs:\n",
    "    im = io.imread(file)\n",
    "    nframes, Ly, Lx = im.shape\n",
    "    yoff = int((Ly-512)/2)\n",
    "    xoff = int((Lx-512)/2)\n",
    "    \n",
    "    im = im[:, yoff:yoff+512, xoff:xoff+512]\n",
    "    \n",
    "    fname = 'file%0.3d.tif'%k\n",
    "    fout = os.path.join('C:\\\\DATA', '5', fname)\n",
    "    \n",
    "    io.imsave(fout, im)\n",
    "    k += 1\n",
    "    "
   ]
  },
  {
   "cell_type": "code",
   "execution_count": 26,
   "metadata": {},
   "outputs": [
    {
     "data": {
      "text/plain": [
       "(200, 512)"
      ]
     },
     "execution_count": 26,
     "metadata": {},
     "output_type": "execute_result"
    }
   ],
   "source": [
    "im.shape"
   ]
  }
 ],
 "metadata": {
  "kernelspec": {
   "display_name": "Python 3",
   "language": "python",
   "name": "python3"
  },
  "language_info": {
   "codemirror_mode": {
    "name": "ipython",
    "version": 3
   },
   "file_extension": ".py",
   "mimetype": "text/x-python",
   "name": "python",
   "nbconvert_exporter": "python",
   "pygments_lexer": "ipython3",
   "version": "3.6.5"
  }
 },
 "nbformat": 4,
 "nbformat_minor": 2
}
