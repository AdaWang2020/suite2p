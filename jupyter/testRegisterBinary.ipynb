{
 "cells": [
  {
   "cell_type": "code",
   "execution_count": 1,
   "metadata": {},
   "outputs": [],
   "source": [
    "import register, imp\n",
    "imp.reload(register)\n",
    "import numpy as np\n",
    "import matplotlib.pyplot as plt\n",
    "import time\n",
    "\n",
    "\n",
    "ops = {\n",
    "        'diameter':12, # this is the main parameter for cell detection\n",
    "        'tau':  1., # this is the main parameter for deconvolution\n",
    "        'fs': 10.,  # sampling rate (total across planes)           \n",
    "        'data_path': 'H:/DATA/2017-10-13/',\n",
    "        'subfolders': ('4'),\n",
    "        'nplanes' : 1, # each tiff has these many planes in sequence\n",
    "        'nchannels' : 1, # each tiff has these many channels per plane  \n",
    "        'functional_chan' : 1, # this channel is used to extract functional ROIs (1-based)\n",
    "        'align_by_chan' : 1, # when multi-channel, you can align by non-functional channel (1-based)\n",
    "        'look_one_level_down': False,        \n",
    "        'baseline': 'maximin', # baselining mode\n",
    "        'win_baseline': 60., # window for maximin\n",
    "        'sig_baseline': 10., # smoothing constant for gaussian filter \n",
    "        'prctile_baseline': 8.,# smoothing constant for gaussian filter        \n",
    "        'neucoeff': .7,  # neuropil coefficient \n",
    "        'neumax': 1.,  # maximum neuropil coefficient (not implemented)\n",
    "        'niterneu': 5, # number of iterations when the neuropil coefficient is estimated (not implemented)\n",
    "        'maxregshift': 0.,\n",
    "        'subpixel' : 10,\n",
    "        'batch_size': 200, # number of frames per batch\n",
    "        'num_workers': 0, # 0 to select num_cores, -1 to disable parallelism, N to enforce value        \n",
    "        'nimg_init': 400, # subsampled frames for finding reference image        \n",
    "      }"
   ]
  },
  {
   "cell_type": "code",
   "execution_count": 2,
   "metadata": {},
   "outputs": [
    {
     "name": "stdout",
     "output_type": "stream",
     "text": [
      "420.6799259185791\n"
     ]
    }
   ],
   "source": [
    "import register, imp\n",
    "imp.reload(register)\n",
    "\n",
    "t0 = time.time()\n",
    "ops1 = register.tiff_to_binary(ops)\n",
    "ops1 = register.register_binary(ops1)\n",
    "t1 = time.time()\n",
    "\n",
    "print(t1-t0)"
   ]
  },
  {
   "cell_type": "code",
   "execution_count": null,
   "metadata": {},
   "outputs": [],
   "source": [
    "X = np.zeros((128, 512, 513), 'float32')\n",
    "X = np.fft.fft2(X)\n",
    "X.dtype"
   ]
  },
  {
   "cell_type": "code",
   "execution_count": null,
   "metadata": {},
   "outputs": [],
   "source": [
    "Im = ops1[0]['meanImg']\n",
    "\n",
    "plt.plot(ops1[0]['xoff'])\n",
    "plt.plot(ops1[0]['yoff'])\n",
    "plt.show()\n",
    "\n",
    "plt.figure(figsize=(10,10))\n",
    "plt.imshow(Im)\n",
    "plt.show()"
   ]
  }
 ],
 "metadata": {
  "kernelspec": {
   "display_name": "Python 3",
   "language": "python",
   "name": "python3"
  },
  "language_info": {
   "codemirror_mode": {
    "name": "ipython",
    "version": 3
   },
   "file_extension": ".py",
   "mimetype": "text/x-python",
   "name": "python",
   "nbconvert_exporter": "python",
   "pygments_lexer": "ipython3",
   "version": "3.6.5"
  }
 },
 "nbformat": 4,
 "nbformat_minor": 2
}
