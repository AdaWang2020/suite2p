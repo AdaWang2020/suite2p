{
 "cells": [
  {
   "cell_type": "code",
   "execution_count": null,
   "metadata": {},
   "outputs": [],
   "source": [
    "import numpy as np\n",
    "import time\n",
    "import matplotlib.pyplot as plt\n",
    "from numpy import fft\n",
    "from numpy import random as rnd\n",
    "from scipy.ndimage import filters\n",
    "import register, imp\n",
    "imp.reload(register)\n",
    "\n",
    "# oasis needs some parameters\n",
    "ops = {\n",
    "        'tau':  1., # this is the only parameter used for deconvolution per se        \n",
    "        'fs': 10.,  # sampling rate        \n",
    "        'baseline': 'maximin', # baselining mode\n",
    "        'win_baseline': 60., # window for maximin\n",
    "        'sig_baseline': 10., # smoothing constant for gaussian filter \n",
    "        'prctile_baseline': 8.,# smoothing constant for gaussian filter        \n",
    "        'neucoeff': .7,  # neuropil coefficient \n",
    "        'neumax': 1.,  # maximum neuropil coefficient (not implemented)\n",
    "        'niterneu': 5, # number of iterations when the neuropil coefficient is estimated (not implemented)\n",
    "        'maxregshift': 0.,\n",
    "        'subpixel' : 10,\n",
    "        'batch_size': 400, \n",
    "        'num_workers': 0, # 0 to select automatically, -1 to disable parallelism, N to enforce value\n",
    "        'XYzeroed' : 0\n",
    "      }"
   ]
  },
  {
   "cell_type": "code",
   "execution_count": null,
   "metadata": {},
   "outputs": [],
   "source": [
    "# simulate some data with shifts\n",
    "nimg = ops['batch_size']\n",
    "\n",
    "Ly = 512\n",
    "Lx = 512\n",
    "pcell = 100./(Ly*Lx)\n",
    "refImg = np.ceil(pcell- rnd.uniform(0,1, (Ly,Lx))).astype('float32')\n",
    "refImg = filters.maximum_filter1d(refImg, 11, axis=0)\n",
    "refImg = filters.maximum_filter1d(refImg, 11, axis=1)\n",
    "\n",
    "data = rnd.normal(0,1.,(nimg, Ly, Lx)).astype('float32')\n",
    "\n",
    "yoff = (10 * (rnd.uniform(0,1,nimg)-.5)).astype('int')\n",
    "xoff = (10 * (rnd.uniform(0,1,nimg)-.5)).astype('int')\n",
    "\n",
    "for j in range(0,nimg):\n",
    "    data[j,:,:] += np.roll(refImg, (yoff[j],xoff[j]), (0,1))\n",
    "\n",
    "[nimg, Ly, Lx] = data.shape\n",
    "plt.subplot(131)\n",
    "plt.imshow(refImg)\n",
    "plt.subplot(132)\n",
    "plt.imshow(data[0,:,:])\n",
    "plt.subplot(133)\n",
    "plt.imshow(data[1,:,:])\n",
    "\n",
    "plt.show()"
   ]
  },
  {
   "cell_type": "code",
   "execution_count": null,
   "metadata": {},
   "outputs": [],
   "source": [
    "imp.reload(register)\n",
    "\n",
    "tstart = time.time()\n",
    "X, ymax, xmax = register.phasecorr(data, refImg, ops)\n",
    "tend = time.time()\n",
    "\n",
    "cy = np.corrcoef(ymax, yoff)[0,1]\n",
    "cx = np.corrcoef(ymax, yoff)[0,1]\n",
    "\n",
    "print('took %2.2f seconds for %d frames of %dx%d'%(tend-tstart, nimg, Ly, Lx))\n",
    "\n",
    "print('correlation with X %2.4f'%cx)\n",
    "print('correlation with Y %2.4f'%cy)\n",
    "\n",
    "plt.subplot(121)\n",
    "plt.plot(ymax[:200])\n",
    "plt.plot(yoff[:200])\n",
    "plt.subplot(122)\n",
    "plt.plot(xmax[:200])\n",
    "plt.plot(xoff[:200])\n",
    "\n",
    "plt.show()"
   ]
  }
 ],
 "metadata": {
  "kernelspec": {
   "display_name": "Python 3",
   "language": "python",
   "name": "python3"
  },
  "language_info": {
   "codemirror_mode": {
    "name": "ipython",
    "version": 3
   },
   "file_extension": ".py",
   "mimetype": "text/x-python",
   "name": "python",
   "nbconvert_exporter": "python",
   "pygments_lexer": "ipython3",
   "version": "3.6.5"
  }
 },
 "nbformat": 4,
 "nbformat_minor": 2
}
