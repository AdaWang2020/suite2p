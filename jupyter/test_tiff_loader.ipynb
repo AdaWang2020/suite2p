{
 "cells": [
  {
   "cell_type": "code",
   "execution_count": 1,
   "metadata": {},
   "outputs": [],
   "source": [
    "import numpy as np\n",
    "import sys\n",
    "# option to import from github folder\n",
    "#sys.path.insert(0, '/media/carsen/DATA2/Github/suite2p')\n",
    "sys.path.insert(0, 'C:/Users/carse/github/suite2p')\n",
    "\n",
    "import imp\n",
    "from suite2p import run_s2p\n",
    "from suite2p import utils\n",
    "from skimage.external.tifffile import imread\n",
    "from ScanImageTiffReader import ScanImageTiffReader\n",
    "\n",
    "fs = ['/media/carsen/DATA2/grive/suite2p_test/example.tif']\n",
    "\n",
    "fs = ['/media/carsen/DATA2/grive/suite2p_test/2016-07-27_8_M160704_FR096_2P_001_001.tif']\n",
    "\n",
    "fs = ['/media/carsen/DATA1/TIFFS/SS05/20160517_SS05_02.tif']\n",
    "\n",
    "\n",
    "# for CNMFE\n",
    "fs = ['C:/Users/carse/Downloads/demo_cnmfe/data_1p.tif']\n",
    "ops={'smooth_sigma': 3, 'block_size': [64, 64], 'snr_thresh': 1.5, \n",
    "        'maxregshiftNR': 8, 'spatial_hp': 30, 'pre_smooth': 0, '1Preg': 1,\n",
    "     'do_phasecorr': True, 'nonrigid': True, 'num_workers': 4, 'maxregshift': 0.1,\n",
    "     'subpixel': 10, 'spatial_taper': 20}\n",
    "\n",
    "\n",
    "# for minipipe\n",
    "fs = ['C:/Users/carse/Downloads/demo_minipipe/demo_data.tif']\n",
    "ops={'smooth_sigma': 3, 'block_size': [64, 64], 'snr_thresh': 1.5, \n",
    "        'maxregshiftNR': 8, 'spatial_hp': 30, 'pre_smooth': 0, '1Preg': 1,\n",
    "     'do_phasecorr': True, 'nonrigid': True, 'num_workers': 4, 'maxregshift': 0.15,\n",
    "     'subpixel': 10, 'spatial_taper': 20}\n",
    "\n",
    "# for neurodroid\n",
    "#fs = ['/media/carsen/DATA1/TIFFS/neurodroid/20180919_BG0039_sensor0_0000_corr.tif']\n",
    "fs = ['C:/Users/carse/Downloads/neurodroid/20180919_BG0039_sensor0_0000_corr.tif']\n",
    "ops={'smooth_sigma': 5, 'block_size': [256, 256], 'snr_thresh': 1.5, \n",
    "        'maxregshiftNR': 5, 'spatial_hp': 50, 'pre_smooth': 2, '1Preg': 1,\n",
    "     'do_phasecorr': True, 'nonrigid': True, 'num_workers': 4, 'maxregshift': 0.15,\n",
    "     'subpixel': 10, 'spatial_taper': 65}\n",
    "\n",
    "# for miniscopy\n",
    "fs = ['C:/Users/carse/Downloads/demo_miniscopy/msCam1.tif']\n",
    "ops={'smooth_sigma': 6, 'block_size': [200, 300], 'snr_thresh': 1.5, \n",
    "        'maxregshiftNR': 8, 'spatial_hp': 50, 'pre_smooth': 0, '1Preg': 1,\n",
    "     'do_phasecorr': True, 'nonrigid': True, 'num_workers': 4, 'maxregshift': 0.15,\n",
    "     'subpixel': 10, 'spatial_taper': 80}\n",
    "\n",
    "\n",
    "fs = ['/media/carsen/DATA2/grive/suite2p_test/2016-07-27_8_M160704_FR096_2P_001_001.tif']\n",
    "\n",
    "#for f in fs:\n",
    "    \n",
    "#    print(tif.shape())\n",
    "#fs = ['C:/Users/carse/Downloads/data_1p.tif']"
   ]
  },
  {
   "cell_type": "code",
   "execution_count": 2,
   "metadata": {},
   "outputs": [
    {
     "ename": "Exception",
     "evalue": "Resource temporarily unavailable",
     "output_type": "error",
     "traceback": [
      "\u001b[0;31m---------------------------------------------------------------------------\u001b[0m",
      "\u001b[0;31mException\u001b[0m                                 Traceback (most recent call last)",
      "\u001b[0;32m<ipython-input-2-88c67d4173b7>\u001b[0m in \u001b[0;36m<module>\u001b[0;34m()\u001b[0m\n\u001b[1;32m      1\u001b[0m \u001b[0mtif\u001b[0m \u001b[0;34m=\u001b[0m \u001b[0mScanImageTiffReader\u001b[0m\u001b[0;34m(\u001b[0m\u001b[0mfs\u001b[0m\u001b[0;34m[\u001b[0m\u001b[0;36m0\u001b[0m\u001b[0;34m]\u001b[0m\u001b[0;34m)\u001b[0m\u001b[0;34m\u001b[0m\u001b[0m\n\u001b[0;32m----> 2\u001b[0;31m \u001b[0mim\u001b[0m \u001b[0;34m=\u001b[0m \u001b[0mtif\u001b[0m\u001b[0;34m.\u001b[0m\u001b[0mdata\u001b[0m\u001b[0;34m(\u001b[0m\u001b[0;34m)\u001b[0m\u001b[0;34m\u001b[0m\u001b[0m\n\u001b[0m",
      "\u001b[0;32m~/.local/lib/python3.6/site-packages/ScanImageTiffReader/__init__.py\u001b[0m in \u001b[0;36mdata\u001b[0;34m(self, beg, end)\u001b[0m\n\u001b[1;32m    307\u001b[0m \u001b[0;34m\u001b[0m\u001b[0m\n\u001b[1;32m    308\u001b[0m         \u001b[0;32mif\u001b[0m \u001b[0mself\u001b[0m\u001b[0;34m.\u001b[0m\u001b[0m__ctx\u001b[0m\u001b[0;34m.\u001b[0m\u001b[0mlog\u001b[0m\u001b[0;34m:\u001b[0m\u001b[0;34m\u001b[0m\u001b[0m\n\u001b[0;32m--> 309\u001b[0;31m             \u001b[0;32mraise\u001b[0m \u001b[0mException\u001b[0m\u001b[0;34m(\u001b[0m\u001b[0mself\u001b[0m\u001b[0;34m.\u001b[0m\u001b[0m__ctx\u001b[0m\u001b[0;34m.\u001b[0m\u001b[0mlog\u001b[0m\u001b[0;34m.\u001b[0m\u001b[0mdecode\u001b[0m\u001b[0;34m(\u001b[0m\u001b[0;34m\"utf-8\"\u001b[0m\u001b[0;34m,\u001b[0m\u001b[0;34m\"strict\"\u001b[0m\u001b[0;34m)\u001b[0m\u001b[0;34m)\u001b[0m\u001b[0;34m\u001b[0m\u001b[0m\n\u001b[0m\u001b[1;32m    310\u001b[0m         \u001b[0;32mreturn\u001b[0m \u001b[0ma\u001b[0m\u001b[0;34m\u001b[0m\u001b[0m\n\u001b[1;32m    311\u001b[0m \u001b[0;34m\u001b[0m\u001b[0m\n",
      "\u001b[0;31mException\u001b[0m: Resource temporarily unavailable"
     ]
    }
   ],
   "source": [
    "tif = ScanImageTiffReader(fs[0])\n",
    "im = tif.data()"
   ]
  },
  {
   "cell_type": "code",
   "execution_count": null,
   "metadata": {},
   "outputs": [],
   "source": []
  },
  {
   "cell_type": "code",
   "execution_count": null,
   "metadata": {},
   "outputs": [],
   "source": [
    "data = imread(fs[0])\n",
    "#im=tif.data()\n",
    "print(data.shape)"
   ]
  },
  {
   "cell_type": "code",
   "execution_count": null,
   "metadata": {},
   "outputs": [],
   "source": [
    "data = data / 2"
   ]
  },
  {
   "cell_type": "code",
   "execution_count": null,
   "metadata": {},
   "outputs": [],
   "source": [
    "import matplotlib.pyplot as plt\n",
    "from suite2p import register, nonrigid, utils\n",
    "import imp\n",
    "imp.reload(register)\n",
    "imp.reload(nonrigid)\n",
    "\n",
    "ops['Ly'] = data.shape[1]\n",
    "ops['Lx'] = data.shape[2]\n",
    "\n",
    "#refImg=register.pick_init_init(ops, data[::4,:,:])\n",
    "#refImg =register.refine_init_init(ops, data[::4,:,:], refImg)\n",
    "#plt.imshow(refImg)\n",
    "#plt.show()\n",
    "print('mean img')\n",
    "\n",
    "dwrite = data[:200,:,:].copy()\n",
    "\n",
    "#for j in range(2):\n",
    "#    if j>0:\n",
    "#        refImg=register.pick_init_init(ops, dwrite[:,:,:])\n",
    "#        refImg =register.refine_init_init(ops, dwrite[:,:,:], refImg)\n",
    "#        print('mean img')\n",
    "    \n",
    "maskMul, maskOffset, cfRefImg = register.prepare_masks(refImg.copy(), ops)\n",
    "if ops['nonrigid']:\n",
    "    ops = utils.make_blocks(ops)\n",
    "    maskMulNR, maskOffsetNR, cfRefImgNR = nonrigid.prepare_masks(refImg, ops)\n",
    "    refAndMasks = [maskMul, maskOffset, cfRefImg, maskMulNR, maskOffsetNR, cfRefImgNR]\n",
    "else:\n",
    "    refAndMasks = [maskMul, maskOffset, cfRefImg]\n",
    "dwrite, ymax, xmax, cmax, yxnr = register.phasecorr(dwrite, refAndMasks, ops)\n",
    "print('registered')\n",
    "\n",
    "    "
   ]
  },
  {
   "cell_type": "code",
   "execution_count": null,
   "metadata": {},
   "outputs": [],
   "source": [
    "type(data[0,0,0])"
   ]
  },
  {
   "cell_type": "code",
   "execution_count": null,
   "metadata": {},
   "outputs": [],
   "source": [
    "plt.imshow(dwrite.mean(axis=0))"
   ]
  },
  {
   "cell_type": "code",
   "execution_count": null,
   "metadata": {},
   "outputs": [],
   "source": [
    "maskMul, maskOffset, cfRefImg = register.prepare_masks(refImg.copy(), ops)\n",
    "plt.imshow(np.real(np.fft.ifft2(np.conj(cfRefImg[0,:,:]))))"
   ]
  },
  {
   "cell_type": "code",
   "execution_count": null,
   "metadata": {},
   "outputs": [],
   "source": [
    "imp.reload(register)\n",
    "\n",
    "\n",
    "\n",
    "plt.figure(figsize=(10,10))\n",
    "plt.imshow(np.real(fft.ifft2(np.conj(cfRefImg))))\n",
    "#plt.imshow(fhg)"
   ]
  },
  {
   "cell_type": "code",
   "execution_count": null,
   "metadata": {},
   "outputs": [],
   "source": [
    "import matplotlib.pyplot as plt\n",
    "plt.imshow(refImg)"
   ]
  },
  {
   "cell_type": "code",
   "execution_count": null,
   "metadata": {},
   "outputs": [],
   "source": [
    "plt.imshow(data[1,:,:])"
   ]
  },
  {
   "cell_type": "code",
   "execution_count": null,
   "metadata": {},
   "outputs": [],
   "source": [
    "plt.figure(figsize=(20,10))\n",
    "plt.plot(ymax[:])\n",
    "plt.plot(xmax[:])\n",
    "plt.show()"
   ]
  },
  {
   "cell_type": "code",
   "execution_count": null,
   "metadata": {},
   "outputs": [],
   "source": [
    "plt.plot(yxnr[0][-1,:])\n",
    "plt.show()\n",
    "yxnr[0].shape"
   ]
  },
  {
   "cell_type": "code",
   "execution_count": null,
   "metadata": {},
   "outputs": [],
   "source": [
    "import numpy as np\n",
    "\n",
    "from matplotlib import animation, rc\n",
    "from IPython.display import HTML\n",
    "# First set up the figure, the axis, and the plot element we want to animate\n",
    "fig, ax = plt.subplots(figsize=(10,10))\n",
    "\n",
    "#dwrite = data\n",
    "\n",
    "#line, = ax.plot([], [], lw=2)\n",
    "im = ax.imshow(dwrite[0,:,:],cmap='gray')\n",
    "\n",
    "# initialization function: plot the background of each frame\n",
    "def init():\n",
    "    im.set_data(dwrite[0,:,:])#,cmap='gray')\n",
    "    return (im,)\n",
    "# animation function. This is called sequentially\n",
    "def animate(i):\n",
    "    im.set_data(dwrite[i,:,:])#,cmap='gray')\n",
    "    return (im,)\n",
    "# call the animator. blit=True means only re-draw the parts that have changed.\n",
    "anim = animation.FuncAnimation(fig, animate, init_func=init,\n",
    "                               frames=200, interval=100, blit=True)\n",
    "HTML(anim.to_html5_video())"
   ]
  },
  {
   "cell_type": "code",
   "execution_count": null,
   "metadata": {},
   "outputs": [],
   "source": [
    "dwrite.max()"
   ]
  },
  {
   "cell_type": "code",
   "execution_count": null,
   "metadata": {},
   "outputs": [],
   "source": [
    "2**15"
   ]
  },
  {
   "cell_type": "code",
   "execution_count": null,
   "metadata": {},
   "outputs": [],
   "source": [
    "plt.figure(figsize=(20,10))\n",
    "ix=186\n",
    "vm=-40\n",
    "vx=40\n",
    "plt.subplot(1,2,1)\n",
    "plt.imshow(data[ix,:,:]-data[ix+1,:,:],vmin=vm,vmax=vx)\n",
    "plt.subplot(1,2,2)\n",
    "plt.imshow(dout[ix,:,:]-dout[ix+1,:,:],vmin=vm,vmax=vx)"
   ]
  },
  {
   "cell_type": "code",
   "execution_count": null,
   "metadata": {},
   "outputs": [],
   "source": [
    "dout=data"
   ]
  },
  {
   "cell_type": "code",
   "execution_count": null,
   "metadata": {},
   "outputs": [],
   "source": [
    "from skimage.external.tifffile import TiffFile\n",
    "\n",
    "#fs = ['/home/carsen/TIFFS/TSeries-20170508-D43-001_Cycle00001_Ch2_000001.ome.tif']\n",
    "fs = ['/home/carsen/TIFFS/MP032/2017-08-01_6_M170714_MP032_2P_001_001.tif'];\n",
    "\n",
    "import time\n",
    "\n",
    "tic = time.time()\n",
    "tif = TiffFile(fs[0])\n",
    "print(time.time()-tic)\n",
    "\n",
    "print(tif[0].asarray())"
   ]
  },
  {
   "cell_type": "code",
   "execution_count": null,
   "metadata": {},
   "outputs": [],
   "source": [
    "1800/12 * 5"
   ]
  },
  {
   "cell_type": "code",
   "execution_count": null,
   "metadata": {},
   "outputs": [],
   "source": [
    "F = np.load('/home/carsen/Downloads/suite2p/plane0/F.npy')\n",
    "F.shape"
   ]
  },
  {
   "cell_type": "code",
   "execution_count": null,
   "metadata": {},
   "outputs": [],
   "source": [
    "import scipy.io\n",
    "\n",
    "Fall = scipy.io.loadmat('/home/carsen/Downloads/suite2p/plane0/Fall.mat',squeeze_me=True)"
   ]
  },
  {
   "cell_type": "code",
   "execution_count": null,
   "metadata": {},
   "outputs": [],
   "source": [
    "Fall['F'].shape"
   ]
  }
 ],
 "metadata": {
  "kernelspec": {
   "display_name": "Python 3",
   "language": "python",
   "name": "python3"
  },
  "language_info": {
   "codemirror_mode": {
    "name": "ipython",
    "version": 3
   },
   "file_extension": ".py",
   "mimetype": "text/x-python",
   "name": "python",
   "nbconvert_exporter": "python",
   "pygments_lexer": "ipython3",
   "version": "3.6.5"
  }
 },
 "nbformat": 4,
 "nbformat_minor": 2
}
