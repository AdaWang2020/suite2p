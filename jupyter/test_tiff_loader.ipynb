{
 "cells": [
  {
   "cell_type": "code",
   "execution_count": 1,
   "metadata": {},
   "outputs": [],
   "source": [
    "import numpy as np\n",
    "import sys\n",
    "# option to import from github folder\n",
    "#sys.path.insert(0, '/media/carsen/DATA2/Github/suite2p')\n",
    "sys.path.insert(0, 'C:/Users/carse/github/suite2p')\n",
    "\n",
    "import imp\n",
    "from suite2p import run_s2p\n",
    "from suite2p import utils\n",
    "from skimage.external.tifffile import imread\n",
    "from ScanImageTiffReader import ScanImageTiffReader\n",
    "\n"
   ]
  },
  {
   "cell_type": "code",
   "execution_count": 2,
   "metadata": {},
   "outputs": [],
   "source": [
    "fs, first_tiffs = utils.list_tifs('/home/carsen/public/for_Carsen/', False)\n",
    "tif = ScanImageTiffReader(fs[0])\n",
    "im = tif.data()"
   ]
  },
  {
   "cell_type": "code",
   "execution_count": 6,
   "metadata": {},
   "outputs": [
    {
     "data": {
      "text/plain": [
       "(100, 768, 768)"
      ]
     },
     "execution_count": 6,
     "metadata": {},
     "output_type": "execute_result"
    }
   ],
   "source": [
    "im.shape"
   ]
  },
  {
   "cell_type": "code",
   "execution_count": null,
   "metadata": {},
   "outputs": [],
   "source": []
  },
  {
   "cell_type": "code",
   "execution_count": null,
   "metadata": {},
   "outputs": [],
   "source": []
  },
  {
   "cell_type": "code",
   "execution_count": null,
   "metadata": {},
   "outputs": [],
   "source": [
    "data = imread(fs[0])\n",
    "#im=tif.data()\n",
    "print(data.shape)"
   ]
  },
  {
   "cell_type": "code",
   "execution_count": null,
   "metadata": {},
   "outputs": [],
   "source": [
    "data = data / 2"
   ]
  },
  {
   "cell_type": "code",
   "execution_count": null,
   "metadata": {},
   "outputs": [],
   "source": [
    "import matplotlib.pyplot as plt\n",
    "from suite2p import register, nonrigid, utils\n",
    "import imp\n",
    "imp.reload(register)\n",
    "imp.reload(nonrigid)\n",
    "\n",
    "ops['Ly'] = data.shape[1]\n",
    "ops['Lx'] = data.shape[2]\n",
    "\n",
    "#refImg=register.pick_init_init(ops, data[::4,:,:])\n",
    "#refImg =register.refine_init_init(ops, data[::4,:,:], refImg)\n",
    "#plt.imshow(refImg)\n",
    "#plt.show()\n",
    "print('mean img')\n",
    "\n",
    "dwrite = data[:200,:,:].copy()\n",
    "\n",
    "#for j in range(2):\n",
    "#    if j>0:\n",
    "#        refImg=register.pick_init_init(ops, dwrite[:,:,:])\n",
    "#        refImg =register.refine_init_init(ops, dwrite[:,:,:], refImg)\n",
    "#        print('mean img')\n",
    "    \n",
    "maskMul, maskOffset, cfRefImg = register.prepare_masks(refImg.copy(), ops)\n",
    "if ops['nonrigid']:\n",
    "    ops = utils.make_blocks(ops)\n",
    "    maskMulNR, maskOffsetNR, cfRefImgNR = nonrigid.prepare_masks(refImg, ops)\n",
    "    refAndMasks = [maskMul, maskOffset, cfRefImg, maskMulNR, maskOffsetNR, cfRefImgNR]\n",
    "else:\n",
    "    refAndMasks = [maskMul, maskOffset, cfRefImg]\n",
    "dwrite, ymax, xmax, cmax, yxnr = register.phasecorr(dwrite, refAndMasks, ops)\n",
    "print('registered')\n",
    "\n",
    "    "
   ]
  },
  {
   "cell_type": "code",
   "execution_count": null,
   "metadata": {},
   "outputs": [],
   "source": [
    "type(data[0,0,0])"
   ]
  },
  {
   "cell_type": "code",
   "execution_count": null,
   "metadata": {},
   "outputs": [],
   "source": [
    "plt.imshow(dwrite.mean(axis=0))"
   ]
  },
  {
   "cell_type": "code",
   "execution_count": null,
   "metadata": {},
   "outputs": [],
   "source": [
    "maskMul, maskOffset, cfRefImg = register.prepare_masks(refImg.copy(), ops)\n",
    "plt.imshow(np.real(np.fft.ifft2(np.conj(cfRefImg[0,:,:]))))"
   ]
  },
  {
   "cell_type": "code",
   "execution_count": null,
   "metadata": {},
   "outputs": [],
   "source": [
    "imp.reload(register)\n",
    "\n",
    "\n",
    "\n",
    "plt.figure(figsize=(10,10))\n",
    "plt.imshow(np.real(fft.ifft2(np.conj(cfRefImg))))\n",
    "#plt.imshow(fhg)"
   ]
  },
  {
   "cell_type": "code",
   "execution_count": null,
   "metadata": {},
   "outputs": [],
   "source": [
    "import matplotlib.pyplot as plt\n",
    "plt.imshow(refImg)"
   ]
  },
  {
   "cell_type": "code",
   "execution_count": null,
   "metadata": {},
   "outputs": [],
   "source": [
    "plt.imshow(data[1,:,:])"
   ]
  },
  {
   "cell_type": "code",
   "execution_count": null,
   "metadata": {},
   "outputs": [],
   "source": [
    "plt.figure(figsize=(20,10))\n",
    "plt.plot(ymax[:])\n",
    "plt.plot(xmax[:])\n",
    "plt.show()"
   ]
  },
  {
   "cell_type": "code",
   "execution_count": null,
   "metadata": {},
   "outputs": [],
   "source": [
    "plt.plot(yxnr[0][-1,:])\n",
    "plt.show()\n",
    "yxnr[0].shape"
   ]
  },
  {
   "cell_type": "code",
   "execution_count": null,
   "metadata": {},
   "outputs": [],
   "source": [
    "import numpy as np\n",
    "\n",
    "from matplotlib import animation, rc\n",
    "from IPython.display import HTML\n",
    "# First set up the figure, the axis, and the plot element we want to animate\n",
    "fig, ax = plt.subplots(figsize=(10,10))\n",
    "\n",
    "#dwrite = data\n",
    "\n",
    "#line, = ax.plot([], [], lw=2)\n",
    "im = ax.imshow(dwrite[0,:,:],cmap='gray')\n",
    "\n",
    "# initialization function: plot the background of each frame\n",
    "def init():\n",
    "    im.set_data(dwrite[0,:,:])#,cmap='gray')\n",
    "    return (im,)\n",
    "# animation function. This is called sequentially\n",
    "def animate(i):\n",
    "    im.set_data(dwrite[i,:,:])#,cmap='gray')\n",
    "    return (im,)\n",
    "# call the animator. blit=True means only re-draw the parts that have changed.\n",
    "anim = animation.FuncAnimation(fig, animate, init_func=init,\n",
    "                               frames=200, interval=100, blit=True)\n",
    "HTML(anim.to_html5_video())"
   ]
  },
  {
   "cell_type": "code",
   "execution_count": null,
   "metadata": {},
   "outputs": [],
   "source": [
    "dwrite.max()"
   ]
  },
  {
   "cell_type": "code",
   "execution_count": null,
   "metadata": {},
   "outputs": [],
   "source": [
    "2**15"
   ]
  },
  {
   "cell_type": "code",
   "execution_count": null,
   "metadata": {},
   "outputs": [],
   "source": [
    "plt.figure(figsize=(20,10))\n",
    "ix=186\n",
    "vm=-40\n",
    "vx=40\n",
    "plt.subplot(1,2,1)\n",
    "plt.imshow(data[ix,:,:]-data[ix+1,:,:],vmin=vm,vmax=vx)\n",
    "plt.subplot(1,2,2)\n",
    "plt.imshow(dout[ix,:,:]-dout[ix+1,:,:],vmin=vm,vmax=vx)"
   ]
  },
  {
   "cell_type": "code",
   "execution_count": null,
   "metadata": {},
   "outputs": [],
   "source": [
    "dout=data"
   ]
  },
  {
   "cell_type": "code",
   "execution_count": null,
   "metadata": {},
   "outputs": [],
   "source": [
    "from skimage.external.tifffile import TiffFile\n",
    "\n",
    "#fs = ['/home/carsen/TIFFS/TSeries-20170508-D43-001_Cycle00001_Ch2_000001.ome.tif']\n",
    "fs = ['/home/carsen/TIFFS/MP032/2017-08-01_6_M170714_MP032_2P_001_001.tif'];\n",
    "\n",
    "import time\n",
    "\n",
    "tic = time.time()\n",
    "tif = TiffFile(fs[0])\n",
    "print(time.time()-tic)\n",
    "\n",
    "print(tif[0].asarray())"
   ]
  },
  {
   "cell_type": "code",
   "execution_count": null,
   "metadata": {},
   "outputs": [],
   "source": [
    "1800/12 * 5"
   ]
  },
  {
   "cell_type": "code",
   "execution_count": null,
   "metadata": {},
   "outputs": [],
   "source": [
    "F = np.load('/home/carsen/Downloads/suite2p/plane0/F.npy')\n",
    "F.shape"
   ]
  },
  {
   "cell_type": "code",
   "execution_count": null,
   "metadata": {},
   "outputs": [],
   "source": [
    "import scipy.io\n",
    "\n",
    "Fall = scipy.io.loadmat('/home/carsen/Downloads/suite2p/plane0/Fall.mat',squeeze_me=True)"
   ]
  },
  {
   "cell_type": "code",
   "execution_count": null,
   "metadata": {},
   "outputs": [],
   "source": [
    "Fall['F'].shape"
   ]
  }
 ],
 "metadata": {
  "kernelspec": {
   "display_name": "Python 3",
   "language": "python",
   "name": "python3"
  },
  "language_info": {
   "codemirror_mode": {
    "name": "ipython",
    "version": 3
   },
   "file_extension": ".py",
   "mimetype": "text/x-python",
   "name": "python",
   "nbconvert_exporter": "python",
   "pygments_lexer": "ipython3",
   "version": "3.6.5"
  }
 },
 "nbformat": 4,
 "nbformat_minor": 2
}
