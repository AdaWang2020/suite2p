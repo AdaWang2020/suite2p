{
 "cells": [
  {
   "cell_type": "code",
   "execution_count": null,
   "metadata": {},
   "outputs": [],
   "source": [
    "# load binary file\n",
    "import numpy as np\n",
    "from scipy import ndimage\n",
    "from scipy.ndimage import filters\n",
    "from scipy.ndimage import gaussian_filter\n",
    "import scipy.sparse as sparse\n",
    "\n",
    "import time\n",
    "import matplotlib.pyplot as plt\n",
    "import math\n",
    "import scipy.io as sio\n",
    "from matplotlib.colors import hsv_to_rgb\n",
    "%matplotlib inline\n",
    "import celldetect, imp\n",
    "\n",
    "def tic():\n",
    "    return time.time()\n",
    "def toc(i0):\n",
    "    return time.time() - i0\n",
    "\n",
    "ops0 = {\n",
    "        'navg_frames_svd': 5000,\n",
    "        'nsvd_for_roi': 1000,\n",
    "        'ratio_neuropil': 5,\n",
    "        'tile_factor': 1,        \n",
    "        'threshold_scaling': 1,\n",
    "        'Vcorr': [],\n",
    "        'allow_overlap': False,\n",
    "        'inner_neuropil_radius': 2, \n",
    "        'outer_neuropil_radius': np.inf, \n",
    "        'min_neuropil_pixels': 350, \n",
    "        'ratio_neuropil_to_cell': 3,     \n",
    "        'nframes': 1,\n",
    "        'diameter': 12\n",
    "    }\n",
    "\n",
    "ops1 = np.load('H:/DATA/2017-10-13\\suite2p\\plane0\\ops.npy').item()\n",
    "\n",
    "ops = {**ops0, **ops1} # replace default values with saved ones\n",
    "#ops['reg_file'] = 'H:/DATA/2018_03_02/1/TX4_2017-10-13_4_plane1.bin'"
   ]
  },
  {
   "cell_type": "code",
   "execution_count": null,
   "metadata": {},
   "outputs": [],
   "source": [
    "imp.reload(celldetect)\n",
    "import dcnv\n",
    "ops['batch_size'] = 2000\n",
    "\n",
    "i0 = tic()\n",
    "\n",
    "ops, stat, F, Fneu = celldetect.main(ops)\n",
    "s = dcnv.oasis(F-0.7*Fneu, ops)\n",
    "print(toc(i0))"
   ]
  },
  {
   "cell_type": "code",
   "execution_count": null,
   "metadata": {},
   "outputs": [],
   "source": [
    "plt.figure(figsize=(12,12))\n",
    "plt.imshow(s, aspect='auto', vmax=1000)\n",
    "plt.show()"
   ]
  },
  {
   "cell_type": "code",
   "execution_count": null,
   "metadata": {},
   "outputs": [],
   "source": [
    "import scipy.stats as stats\n",
    "plt.figure(figsize=(12,12))\n",
    "dF = F - Fneu\n",
    "dF = stats.zscore(dF, axis=1)\n",
    "\n",
    "plt.plot(dF[:10, :].transpose())\n",
    "#plt.imshow(dF, aspect='auto', vmin=-2, vmax=5)\n",
    "plt.show()"
   ]
  },
  {
   "cell_type": "code",
   "execution_count": null,
   "metadata": {},
   "outputs": [],
   "source": [
    "Lyc = ops['Lyc']\n",
    "Lxc = ops['Lxc']\n",
    "\n",
    "r = np.random.random((len(stat),))\n",
    "fig = plt.figure(figsize=(12,12))\n",
    "ax = fig.add_subplot(1, 1, 1)\n",
    "rgb = celldetect.drawClusters(r, mPix.transpose(), mLam.transpose(),Lyc,Lxc)    \n",
    "ax.imshow(rgb)       "
   ]
  },
  {
   "cell_type": "code",
   "execution_count": null,
   "metadata": {},
   "outputs": [],
   "source": [
    "def removeBadFrames(ops,F,Fneu):\n",
    "    '''add nan's when bad frames occur (high movement frames) '''\n",
    "    return F,Fneu\n",
    "\n",
    "def activityStat(stat,F,Fneu):\n",
    "    dF = F - 0.7 * Fneu\n",
    "    sd = F.std(axis=1)\n",
    "    sdN = Fneu.std(axis=1)\n",
    "    std_cell = sd / sdN\n",
    "    skew = np.skew(dF,axis=1)\n",
    "    for n in range(ncells):\n",
    "    return stat"
   ]
  },
  {
   "cell_type": "code",
   "execution_count": null,
   "metadata": {},
   "outputs": [],
   "source": [
    "print(stat[2]['radius'])\n",
    "inner_radius = 2\n",
    "expanded_cell_pix = ndimage.grey_dilation(cell_pix, (inner_radius,inner_radius))\n",
    "plt.subplot(121)\n",
    "plt.imshow(cell_pix[:100,:100])\n",
    "plt.subplot(122)\n",
    "plt.imshow(expanded_cell_pix[:100,:100])\n",
    "plt.show()\n",
    "print(expanded_cell_pix[:100,:100])"
   ]
  },
  {
   "cell_type": "code",
   "execution_count": null,
   "metadata": {},
   "outputs": [],
   "source": [
    "n+=1\n",
    "plt.imshow(neuropil_masks[n,:,:])\n",
    "plt.plot(stat[n]['med'][1],stat[n]['med'][0],'o')\n",
    "neuropil_masks[n,:,:].sum()"
   ]
  },
  {
   "cell_type": "code",
   "execution_count": null,
   "metadata": {},
   "outputs": [],
   "source": [
    "n = 410\n",
    "mask = np.zeros((Ly,Lx))\n",
    "overlap = stat[n]['overlap']\n",
    "ipix = stat[n]['ipix'][~overlap]\n",
    "ypix = stat[n]['ypix'][~overlap]\n",
    "xpix = stat[n]['xpix'][~overlap]\n",
    "lam  = stat[n]['lam'][~overlap]\n",
    "lam = lam / lam.sum()\n",
    "print(lam)\n",
    "mask[ypix,xpix] = lam\n",
    "params = utils.fitMVGaus(ypix,xpix,lam,2)\n",
    "plt.imshow(mask)\n",
    "plt.plot(params[3][:,1],params[3][:,0])\n",
    "#plt.plot(ypix[lam>.001],xpix[lam>.001],'.')\n",
    "mu = params[0]\n",
    "plt.xlim([mu[1]-10,mu[1]+10])\n",
    "plt.ylim([mu[0]-10,mu[0]+10])\n",
    "plt.show()"
   ]
  }
 ],
 "metadata": {
  "kernelspec": {
   "display_name": "Python 3",
   "language": "python",
   "name": "python3"
  },
  "language_info": {
   "codemirror_mode": {
    "name": "ipython",
    "version": 3
   },
   "file_extension": ".py",
   "mimetype": "text/x-python",
   "name": "python",
   "nbconvert_exporter": "python",
   "pygments_lexer": "ipython3",
   "version": "3.6.5"
  }
 },
 "nbformat": 4,
 "nbformat_minor": 2
}
