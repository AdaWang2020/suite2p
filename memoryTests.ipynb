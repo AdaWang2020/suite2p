{
 "cells": [
  {
   "cell_type": "code",
   "execution_count": 1,
   "metadata": {},
   "outputs": [
    {
     "name": "stdout",
     "output_type": "stream",
     "text": [
      "found ops1 and pre-registered binaries\n",
      "overwriting ops1 with new ops\n",
      "skipping registration...\n",
      "time 38.2812. SVD computed\n",
      "cells: 224, cost: 0.6161, time: 21.3037\n",
      "time 71.3169. Found 224 ROIs\n",
      "float32\n",
      "float32\n",
      "extracted 0/10000 frames\n",
      "extracted 5000/10000 frames\n",
      "time 253.1328. Extracted fluorescence from 224 ROIs\n",
      "time 262.8405. Detected spikes in 224 ROIs\n",
      "results saved to C:/Drive/suite2python/data1\\suite2p\\plane0\n",
      "finished all tasks\n",
      "263.1644072532654\n"
     ]
    }
   ],
   "source": [
    "# load binary file\n",
    "import numpy as np\n",
    "import time\n",
    "from suite2p.run_s2p import run_s2p\n",
    "import imp\n",
    "\n",
    "\n",
    "def tic():\n",
    "    return time.time()\n",
    "def toc(i0):\n",
    "    return time.time() - i0\n",
    "\n",
    "ops = {\n",
    "    'diameter': 12,\n",
    "    'tau': 2.,\n",
    "    'fs': 2.5,\n",
    "    'data_path': ['C:/Drive/suite2python/data1/'],\n",
    "    #'data_path': 'C:\\Drive\\suite2python\\data',\n",
    "    'subfolders': ['2', '5', '6'],\n",
    "    'num_workers': 0,\n",
    "    'reg_tif':False,\n",
    "    'max_iterations':1,\n",
    "      }\n",
    "\n",
    "\n",
    "# copy tiff to a binary\n",
    "i0 = tic()\n",
    "ops1 = run_s2p(ops)\n",
    "print(toc(i0))\n",
    "#ops1 = register.tiff_to_binary(ops)"
   ]
  },
  {
   "cell_type": "code",
   "execution_count": 4,
   "metadata": {},
   "outputs": [
    {
     "name": "stdout",
     "output_type": "stream",
     "text": [
      "time 340.7931. SVD computed\n",
      "cells: 224, cost: 0.6161, time: 22.1188\n"
     ]
    }
   ],
   "source": [
    "import os\n",
    "from suite2p import celldetect\n",
    "\n",
    "fpathops1 = os.path.join(ops['data_path'][0], 'suite2p', 'ops1.npy')\n",
    "ops1 = np.load(fpathops1)\n",
    "ops = ops1[0]\n",
    "\n",
    "U,sdmov      = celldetect.getSVDdata(ops)\n",
    "print('time %4.4f. SVD computed'%toc(i0))\n",
    "# neuropil projections\n",
    "S, StU , StS = celldetect.getStU(ops, U)\n",
    "# get ROIs\n",
    "ops, stat, cell_masks, neuropil_masks, mPix, mLam = celldetect.sourcery(ops, U, S, StU, StS)"
   ]
  },
  {
   "cell_type": "code",
   "execution_count": 5,
   "metadata": {},
   "outputs": [
    {
     "data": {
      "text/plain": [
       "<223x262144 sparse matrix of type '<class 'numpy.float32'>'\n",
       "\twith 40182 stored elements in Compressed Sparse Row format>"
      ]
     },
     "execution_count": 5,
     "metadata": {},
     "output_type": "execute_result"
    }
   ],
   "source": [
    "cell_masks"
   ]
  },
  {
   "cell_type": "code",
   "execution_count": null,
   "metadata": {},
   "outputs": [],
   "source": [
    "print('time %4.4f. Found %d ROIs'%(toc(i0), len(stat)))\n",
    "# extract fluorescence and neuropil\n",
    "F, Fneu = celldetect.extractF(ops, stat, cell_masks, neuropil_masks, mPix, mLam)\n"
   ]
  }
 ],
 "metadata": {
  "kernelspec": {
   "display_name": "Python 3",
   "language": "python",
   "name": "python3"
  },
  "language_info": {
   "codemirror_mode": {
    "name": "ipython",
    "version": 3
   },
   "file_extension": ".py",
   "mimetype": "text/x-python",
   "name": "python",
   "nbconvert_exporter": "python",
   "pygments_lexer": "ipython3",
   "version": "3.6.5"
  }
 },
 "nbformat": 4,
 "nbformat_minor": 2
}
