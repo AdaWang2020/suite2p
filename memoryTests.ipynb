{
 "cells": [
  {
   "cell_type": "code",
   "execution_count": 1,
   "metadata": {},
   "outputs": [
    {
     "name": "stdout",
     "output_type": "stream",
     "text": [
      "found ops1 and pre-registered binaries\n",
      "overwriting ops1 with new ops\n",
      "skipping registration...\n",
      "time 35.7089. SVD computed\n",
      "cells: 224, cost: 0.6161, time: 20.3722\n",
      "cells: 403, cost: 0.5994, time: 44.1679\n",
      "cells: 522, cost: 0.5912, time: 69.5143\n",
      "cells: 577, cost: 0.5881, time: 96.7187\n"
     ]
    },
    {
     "ename": "KeyboardInterrupt",
     "evalue": "",
     "output_type": "error",
     "traceback": [
      "\u001b[1;31m---------------------------------------------------------------------------\u001b[0m",
      "\u001b[1;31mKeyboardInterrupt\u001b[0m                         Traceback (most recent call last)",
      "\u001b[1;32m<ipython-input-1-b7582715c315>\u001b[0m in \u001b[0;36m<module>\u001b[1;34m()\u001b[0m\n\u001b[0;32m     26\u001b[0m \u001b[1;31m# copy tiff to a binary\u001b[0m\u001b[1;33m\u001b[0m\u001b[1;33m\u001b[0m\u001b[0m\n\u001b[0;32m     27\u001b[0m \u001b[0mi0\u001b[0m \u001b[1;33m=\u001b[0m \u001b[0mtic\u001b[0m\u001b[1;33m(\u001b[0m\u001b[1;33m)\u001b[0m\u001b[1;33m\u001b[0m\u001b[0m\n\u001b[1;32m---> 28\u001b[1;33m \u001b[0mops1\u001b[0m \u001b[1;33m=\u001b[0m \u001b[0mrun_s2p\u001b[0m\u001b[1;33m(\u001b[0m\u001b[0mops\u001b[0m\u001b[1;33m)\u001b[0m\u001b[1;33m\u001b[0m\u001b[0m\n\u001b[0m\u001b[0;32m     29\u001b[0m \u001b[0mprint\u001b[0m\u001b[1;33m(\u001b[0m\u001b[0mtoc\u001b[0m\u001b[1;33m(\u001b[0m\u001b[0mi0\u001b[0m\u001b[1;33m)\u001b[0m\u001b[1;33m)\u001b[0m\u001b[1;33m\u001b[0m\u001b[0m\n\u001b[0;32m     30\u001b[0m \u001b[1;31m#ops1 = register.tiff_to_binary(ops)\u001b[0m\u001b[1;33m\u001b[0m\u001b[1;33m\u001b[0m\u001b[0m\n",
      "\u001b[1;32mC:\\Github\\suite2p\\suite2p\\run_s2p.py\u001b[0m in \u001b[0;36mrun_s2p\u001b[1;34m(ops, db)\u001b[0m\n\u001b[0;32m     93\u001b[0m         \u001b[0mS\u001b[0m\u001b[1;33m,\u001b[0m \u001b[0mStU\u001b[0m \u001b[1;33m,\u001b[0m \u001b[0mStS\u001b[0m \u001b[1;33m=\u001b[0m \u001b[0mcelldetect\u001b[0m\u001b[1;33m.\u001b[0m\u001b[0mgetStU\u001b[0m\u001b[1;33m(\u001b[0m\u001b[0mops\u001b[0m\u001b[1;33m,\u001b[0m \u001b[0mU\u001b[0m\u001b[1;33m)\u001b[0m\u001b[1;33m\u001b[0m\u001b[0m\n\u001b[0;32m     94\u001b[0m         \u001b[1;31m# get ROIs\u001b[0m\u001b[1;33m\u001b[0m\u001b[1;33m\u001b[0m\u001b[0m\n\u001b[1;32m---> 95\u001b[1;33m         \u001b[0mops\u001b[0m\u001b[1;33m,\u001b[0m \u001b[0mstat\u001b[0m\u001b[1;33m,\u001b[0m \u001b[0mcell_masks\u001b[0m\u001b[1;33m,\u001b[0m \u001b[0mneuropil_masks\u001b[0m\u001b[1;33m,\u001b[0m \u001b[0mmPix\u001b[0m\u001b[1;33m,\u001b[0m \u001b[0mmLam\u001b[0m \u001b[1;33m=\u001b[0m \u001b[0mcelldetect\u001b[0m\u001b[1;33m.\u001b[0m\u001b[0msourcery\u001b[0m\u001b[1;33m(\u001b[0m\u001b[0mops\u001b[0m\u001b[1;33m,\u001b[0m \u001b[0mU\u001b[0m\u001b[1;33m,\u001b[0m \u001b[0mS\u001b[0m\u001b[1;33m,\u001b[0m \u001b[0mStU\u001b[0m\u001b[1;33m,\u001b[0m \u001b[0mStS\u001b[0m\u001b[1;33m)\u001b[0m\u001b[1;33m\u001b[0m\u001b[0m\n\u001b[0m\u001b[0;32m     96\u001b[0m         \u001b[0mprint\u001b[0m\u001b[1;33m(\u001b[0m\u001b[1;34m'time %4.4f. Found %d ROIs'\u001b[0m\u001b[1;33m%\u001b[0m\u001b[1;33m(\u001b[0m\u001b[0mtoc\u001b[0m\u001b[1;33m(\u001b[0m\u001b[0mi0\u001b[0m\u001b[1;33m)\u001b[0m\u001b[1;33m,\u001b[0m \u001b[0mlen\u001b[0m\u001b[1;33m(\u001b[0m\u001b[0mstat\u001b[0m\u001b[1;33m)\u001b[0m\u001b[1;33m)\u001b[0m\u001b[1;33m)\u001b[0m\u001b[1;33m\u001b[0m\u001b[0m\n\u001b[0;32m     97\u001b[0m         \u001b[1;31m# extract fluorescence and neuropil\u001b[0m\u001b[1;33m\u001b[0m\u001b[1;33m\u001b[0m\u001b[0m\n",
      "\u001b[1;32mC:\\Github\\suite2p\\suite2p\\celldetect.py\u001b[0m in \u001b[0;36msourcery\u001b[1;34m(ops, U, S, StU, StS)\u001b[0m\n\u001b[0;32m    561\u001b[0m \u001b[1;33m\u001b[0m\u001b[0m\n\u001b[0;32m    562\u001b[0m         \u001b[0merr\u001b[0m \u001b[1;33m=\u001b[0m \u001b[1;33m(\u001b[0m\u001b[0mUcell\u001b[0m\u001b[1;33m**\u001b[0m\u001b[1;36m2\u001b[0m\u001b[1;33m)\u001b[0m\u001b[1;33m.\u001b[0m\u001b[0mmean\u001b[0m\u001b[1;33m(\u001b[0m\u001b[1;33m)\u001b[0m\u001b[1;33m\u001b[0m\u001b[0m\n\u001b[1;32m--> 563\u001b[1;33m \u001b[1;33m\u001b[0m\u001b[0m\n\u001b[0m\u001b[0;32m    564\u001b[0m         \u001b[0mprint\u001b[0m\u001b[1;33m(\u001b[0m\u001b[1;34m'cells: %d, cost: %2.4f, time: %2.4f'\u001b[0m\u001b[1;33m%\u001b[0m\u001b[1;33m(\u001b[0m\u001b[0mncells\u001b[0m\u001b[1;33m,\u001b[0m \u001b[0merr\u001b[0m\u001b[1;33m,\u001b[0m \u001b[0mtoc\u001b[0m\u001b[1;33m(\u001b[0m\u001b[0mi0\u001b[0m\u001b[1;33m)\u001b[0m\u001b[1;33m)\u001b[0m\u001b[1;33m)\u001b[0m\u001b[1;33m\u001b[0m\u001b[0m\n\u001b[0;32m    565\u001b[0m \u001b[1;33m\u001b[0m\u001b[0m\n",
      "\u001b[1;31mKeyboardInterrupt\u001b[0m: "
     ]
    }
   ],
   "source": [
    "# load binary file\n",
    "import numpy as np\n",
    "import time\n",
    "from suite2p.run_s2p import run_s2p\n",
    "import imp\n",
    "\n",
    "def tic():\n",
    "    return time.time()\n",
    "def toc(i0):\n",
    "    return time.time() - i0\n",
    "\n",
    "ops = {\n",
    "    'diameter': 12,\n",
    "    'tau': 2.,\n",
    "    'fs': 2.5,\n",
    "    'data_path': ['C:/Drive/suite2python/data1/'],\n",
    "    #'data_path': 'C:\\Drive\\suite2python\\data',\n",
    "    'subfolders': ['2', '5', '6'],\n",
    "    'num_workers': 0,\n",
    "    'reg_tif':False,\n",
    "    'max_iterations':10,\n",
    "      }\n",
    "\n",
    "\n",
    "# copy tiff to a binary\n",
    "i0 = tic()\n",
    "ops1 = run_s2p(ops)\n",
    "print(toc(i0))\n",
    "#ops1 = register.tiff_to_binary(ops)"
   ]
  },
  {
   "cell_type": "code",
   "execution_count": 4,
   "metadata": {},
   "outputs": [
    {
     "name": "stdout",
     "output_type": "stream",
     "text": [
      "time 340.7931. SVD computed\n",
      "cells: 224, cost: 0.6161, time: 22.1188\n"
     ]
    }
   ],
   "source": []
  }
 ],
 "metadata": {
  "kernelspec": {
   "display_name": "Python 3",
   "language": "python",
   "name": "python3"
  },
  "language_info": {
   "codemirror_mode": {
    "name": "ipython",
    "version": 3
   },
   "file_extension": ".py",
   "mimetype": "text/x-python",
   "name": "python",
   "nbconvert_exporter": "python",
   "pygments_lexer": "ipython3",
   "version": "3.6.5"
  }
 },
 "nbformat": 4,
 "nbformat_minor": 2
}
