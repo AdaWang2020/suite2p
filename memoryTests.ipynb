{
 "cells": [
  {
   "cell_type": "code",
   "execution_count": 2,
   "metadata": {},
   "outputs": [
    {
     "data": {
      "text/plain": [
       "2.0"
      ]
     },
     "execution_count": 2,
     "metadata": {},
     "output_type": "execute_result"
    }
   ],
   "source": [
    "# load binary file\n",
    "import numpy as np\n",
    "import time\n",
    "import suite2p, register, dcnv, celldetect\n",
    "\n",
    "def tic():\n",
    "    return time.time()\n",
    "def toc(i0):\n",
    "    return time.time() - i0\n",
    "\n",
    "ops = {\n",
    "    'diameter': 14,\n",
    "    'tau': 2.,\n",
    "      }\n",
    "\n",
    "# get defaults options\n",
    "ops0 = suite2p.default_ops()\n",
    "\n",
    "# combine with user options\n",
    "ops = {**ops0, **ops} "
   ]
  },
  {
   "cell_type": "code",
   "execution_count": 3,
   "metadata": {},
   "outputs": [],
   "source": [
    "# copy tiff to a binary\n",
    "ops1 = register.tiff_to_binary(ops)\n",
    "# register tiff\n",
    "ops1 = register.register_binary(ops1)"
   ]
  },
  {
   "cell_type": "code",
   "execution_count": 14,
   "metadata": {},
   "outputs": [
    {
     "name": "stdout",
     "output_type": "stream",
     "text": [
      "73.36479115486145\n",
      "82.30986762046814\n",
      "93.87892723083496\n",
      "99.66246008872986\n"
     ]
    }
   ],
   "source": [
    "import imp\n",
    "imp.reload(celldetect)\n",
    "U,sdmov      = celldetect.getSVDdata(ops1[0])"
   ]
  },
  {
   "cell_type": "code",
   "execution_count": 21,
   "metadata": {},
   "outputs": [],
   "source": [
    "data = np.random.randn(1000,1000,1000)"
   ]
  },
  {
   "cell_type": "code",
   "execution_count": 23,
   "metadata": {},
   "outputs": [],
   "source": [
    "data = data.reshape((1000, -1))"
   ]
  }
 ],
 "metadata": {
  "kernelspec": {
   "display_name": "Python 3",
   "language": "python",
   "name": "python3"
  },
  "language_info": {
   "codemirror_mode": {
    "name": "ipython",
    "version": 3
   },
   "file_extension": ".py",
   "mimetype": "text/x-python",
   "name": "python",
   "nbconvert_exporter": "python",
   "pygments_lexer": "ipython3",
   "version": "3.6.5"
  }
 },
 "nbformat": 4,
 "nbformat_minor": 2
}
