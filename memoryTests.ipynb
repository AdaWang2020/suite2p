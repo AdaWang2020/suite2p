{
 "cells": [
  {
   "cell_type": "code",
   "execution_count": 1,
   "metadata": {},
   "outputs": [],
   "source": [
    "# load binary file\n",
    "import numpy as np\n",
    "import time\n",
    "import suite2p, register, dcnv, celldetect\n",
    "\n",
    "def tic():\n",
    "    return time.time()\n",
    "def toc(i0):\n",
    "    return time.time() - i0\n",
    "\n",
    "ops = {\n",
    "    'diameter': 14,\n",
    "    'tau': 2.,\n",
    "    'fs': 2.5,\n",
    "    'data_path': 'H:/DATA/2017-10-13/',\n",
    "    'subfolders': ('1'),\n",
    "    'numworkers':-1\n",
    "      }\n",
    "\n",
    "# get defaults options\n",
    "ops0 = suite2p.default_ops()\n",
    "\n",
    "# combine with user options\n",
    "ops = {**ops0, **ops} "
   ]
  },
  {
   "cell_type": "code",
   "execution_count": 2,
   "metadata": {},
   "outputs": [
    {
     "name": "stdout",
     "output_type": "stream",
     "text": [
      "151.96024656295776\n"
     ]
    }
   ],
   "source": [
    "i0 = tic()\n",
    "# copy tiff to a binary\n",
    "ops1 = register.tiff_to_binary(ops)\n",
    "# register tiff\n",
    "ops1 = register.register_binary(ops1)\n",
    "\n",
    "print(toc(i0))"
   ]
  },
  {
   "cell_type": "code",
   "execution_count": null,
   "metadata": {},
   "outputs": [],
   "source": [
    "import imp\n",
    "imp.reload(celldetect)\n",
    "U,sdmov      = celldetect.getSVDdata(ops1[0])"
   ]
  },
  {
   "cell_type": "code",
   "execution_count": null,
   "metadata": {},
   "outputs": [],
   "source": [
    "ops = ops1[0]\n",
    "S, StU , StS = celldetect.getStU(ops, U)\n",
    "# get ROIs\n",
    "ops, stat, cell_masks, neuropil_masks, mPix, mLam = celldetect.sourcery(ops, U, S, StU, StS)\n",
    "# extract fluorescence and neuropil\n",
    "F, Fneu = celldetect.extractF(ops, stat, cell_masks, neuropil_masks, mPix, mLam)\n",
    "# deconvolve fluorescence\n",
    "spks = dcnv.oasis(F - ops['neucoeff'] * Fneu, ops)"
   ]
  },
  {
   "cell_type": "code",
   "execution_count": null,
   "metadata": {},
   "outputs": [],
   "source": [
    "import matplotlib.pyplot as plt\n",
    "from matplotlib.colors import hsv_to_rgb\n",
    "%matplotlib inline\n",
    "import scipy.stats as stats\n",
    "\n",
    "dF = F - 0.7*Fneu\n",
    "dF = stats.zscore(dF, axis=1)\n",
    "\n",
    "plt.figure(figsize=(18,18))\n",
    "plt.imshow(dF[:200,:], vmax=5)\n",
    "plt.show()"
   ]
  }
 ],
 "metadata": {
  "kernelspec": {
   "display_name": "Python 3",
   "language": "python",
   "name": "python3"
  },
  "language_info": {
   "codemirror_mode": {
    "name": "ipython",
    "version": 3
   },
   "file_extension": ".py",
   "mimetype": "text/x-python",
   "name": "python",
   "nbconvert_exporter": "python",
   "pygments_lexer": "ipython3",
   "version": "3.6.5"
  }
 },
 "nbformat": 4,
 "nbformat_minor": 2
}
