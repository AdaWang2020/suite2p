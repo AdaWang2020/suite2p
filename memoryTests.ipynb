{
 "cells": [
  {
   "cell_type": "code",
   "execution_count": 1,
   "metadata": {},
   "outputs": [
    {
     "name": "stdout",
     "output_type": "stream",
     "text": [
      "found ops1 and pre-registered binaries\n",
      "overwriting ops1 with new ops\n",
      "skipping registration...\n",
      "SVD computed in 33.95 sec\n",
      "cells: 225, cost: 0.6157, time: 55.8981\n",
      "cells: 405, cost: 0.5990, time: 78.6797\n",
      "cells: 523, cost: 0.5910, time: 103.9509\n",
      "cells: 573, cost: 0.5880, time: 130.2584\n",
      "cells: 585, cost: 0.5873, time: 156.0640\n",
      "cells: 585, cost: 515921.9062, time: 192.9864\n",
      "cells: 585, cost: 511299.4062, time: 210.0528\n",
      "cells: 585, cost: 510576.1562, time: 226.8475\n",
      "time 243.3964. Found 585 ROIs\n",
      "extracted 0/10000 frames in 3.83 sec\n",
      "extracted 5000/10000 frames in 23.87 sec\n",
      "extracted 10000/10000 frames in 39.86 sec\n",
      "time 283.2638. Extracted fluorescence from 585 ROIs\n",
      "time 305.8052. Detected spikes in 585 ROIs\n",
      "results saved to C:/Drive/suite2python/data1/suite2p\\plane0\n",
      "finished all tasks\n",
      "306.3526260852814\n"
     ]
    }
   ],
   "source": [
    "# load binary file\n",
    "import numpy as np\n",
    "import time\n",
    "from suite2p.run_s2p import run_s2p\n",
    "import imp\n",
    "\n",
    "def tic():\n",
    "    return time.time()\n",
    "def toc(i0):\n",
    "    return time.time() - i0\n",
    "\n",
    "ops = {\n",
    "    'diameter': 12,\n",
    "    'tau': 2.,\n",
    "    'fs': 2.5,\n",
    "    'data_path': ['C:/Drive/suite2python/data1/'],\n",
    "    #'data_path': 'C:\\Drive\\suite2python\\data',\n",
    "    'subfolders': ['1', '2', '5'],\n",
    "    'num_workers': 0,\n",
    "    'reg_tif':False,\n",
    "    'max_iterations':10,    \n",
    "      }\n",
    "\n",
    "\n",
    "# copy tiff to a binary\n",
    "i0 = tic()\n",
    "ops1 = run_s2p(ops)\n",
    "print(toc(i0))\n",
    "#ops1 = register.tiff_to_binary(ops)"
   ]
  },
  {
   "cell_type": "code",
   "execution_count": 4,
   "metadata": {},
   "outputs": [
    {
     "name": "stdout",
     "output_type": "stream",
     "text": [
      "time 340.7931. SVD computed\n",
      "cells: 224, cost: 0.6161, time: 22.1188\n"
     ]
    }
   ],
   "source": []
  }
 ],
 "metadata": {
  "kernelspec": {
   "display_name": "Python 3",
   "language": "python",
   "name": "python3"
  },
  "language_info": {
   "codemirror_mode": {
    "name": "ipython",
    "version": 3
   },
   "file_extension": ".py",
   "mimetype": "text/x-python",
   "name": "python",
   "nbconvert_exporter": "python",
   "pygments_lexer": "ipython3",
   "version": "3.6.5"
  }
 },
 "nbformat": 4,
 "nbformat_minor": 2
}
