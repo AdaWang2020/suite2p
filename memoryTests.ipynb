{
 "cells": [
  {
   "cell_type": "code",
   "execution_count": null,
   "metadata": {},
   "outputs": [],
   "source": [
    "# load binary file\n",
    "import numpy as np\n",
    "import time\n",
    "import suite2p, register, dcnv, celldetect\n",
    "import imp\n",
    "imp.reload(suite2p)\n",
    "imp.reload(register)\n",
    "imp.reload(celldetect)\n",
    "\n",
    "def tic():\n",
    "    return time.time()\n",
    "def toc(i0):\n",
    "    return time.time() - i0\n",
    "\n",
    "ops = {\n",
    "    'diameter': 12,\n",
    "    'tau': 2.,\n",
    "    'fs': 2.5,\n",
    "    'data_path': ['C:/DATA/'],\n",
    "    #'data_path': 'C:\\Drive\\suite2python\\data',\n",
    "    'subfolders': ['5', '6'],\n",
    "    'num_workers': 0,\n",
    "    'reg_tif':True,\n",
    "    'max_iterations':10,\n",
    "      }\n",
    "\n",
    "\n",
    "# copy tiff to a binary\n",
    "i0 = tic()\n",
    "ops1 = suite2p.main(ops)\n",
    "print(toc(i0))\n",
    "#ops1 = register.tiff_to_binary(ops)"
   ]
  },
  {
   "cell_type": "code",
   "execution_count": null,
   "metadata": {},
   "outputs": [],
   "source": [
    "ops1[0]['outer_neuropil_radius'] is np.inf"
   ]
  },
  {
   "cell_type": "code",
   "execution_count": null,
   "metadata": {},
   "outputs": [],
   "source": [
    "ops1[0]['outer_neuropil_radius']"
   ]
  },
  {
   "cell_type": "code",
   "execution_count": null,
   "metadata": {},
   "outputs": [],
   "source": [
    "import matplotlib.pyplot as plt\n",
    "from matplotlib.colors import hsv_to_rgb\n",
    "%matplotlib inline\n",
    "plt.figure(figsize=(14,14))\n",
    "plt.imshow(ops1[0]['meanImg'])\n",
    "plt.show()"
   ]
  },
  {
   "cell_type": "code",
   "execution_count": null,
   "metadata": {},
   "outputs": [],
   "source": [
    "import matplotlib.pyplot as plt\n",
    "\n",
    "plt.plot(ops1[0]['yoff'])\n",
    "plt.show()"
   ]
  },
  {
   "cell_type": "code",
   "execution_count": null,
   "metadata": {},
   "outputs": [],
   "source": [
    "import imp\n",
    "imp.reload(register)\n",
    "\n",
    "i0 = tic()\n",
    "#ops1[0]['batch_size'] = 200\n",
    "ops1[0]['num_workers'] = 0\n",
    "\n",
    "# register tiff\n",
    "ops1 = register.register_binary(ops1)\n",
    "\n",
    "print(toc(i0))"
   ]
  },
  {
   "cell_type": "code",
   "execution_count": null,
   "metadata": {},
   "outputs": [],
   "source": [
    "import imp\n",
    "imp.reload(celldetect)\n",
    "\n",
    "ops = ops1[0]\n",
    "U,sdmov      = celldetect.getSVDdata(ops)\n",
    "S, StU , StS = celldetect.getStU(ops, U)\n",
    "print(U.shape)"
   ]
  },
  {
   "cell_type": "code",
   "execution_count": null,
   "metadata": {},
   "outputs": [],
   "source": [
    "ops['diameter'] = 12\n",
    "# get ROIs\n",
    "ops, stat, cell_masks, neuropil_masks, mPix, mLam = celldetect.sourcery(ops, U, S, StU, StS)\n",
    "# extract fluorescence and neuropil\n",
    "F, Fneu = celldetect.extractF(ops, stat, cell_masks, neuropil_masks, mPix, mLam)\n",
    "# deconvolve fluorescence\n",
    "spks = dcnv.oasis(F - ops['neucoeff'] * Fneu, ops)"
   ]
  },
  {
   "cell_type": "code",
   "execution_count": null,
   "metadata": {},
   "outputs": [],
   "source": [
    "import matplotlib.pyplot as plt\n",
    "from matplotlib.colors import hsv_to_rgb\n",
    "%matplotlib inline\n",
    "import scipy.stats as stats\n",
    "\n",
    "dF = F - 0.7*Fneu\n",
    "dF = stats.zscore(dF, axis=1)\n",
    "\n",
    "sk = stats.skew(dF, axis=1)\n",
    "sd = np.std(dF, axis=1)\n",
    "print(np.mean(sk[sd>0]))\n",
    "\n",
    "plt.figure(figsize=(18,18))\n",
    "plt.imshow(dF[:,:], vmax=5, aspect='auto')\n",
    "plt.show()\n"
   ]
  }
 ],
 "metadata": {
  "kernelspec": {
   "display_name": "Python 3",
   "language": "python",
   "name": "python3"
  },
  "language_info": {
   "codemirror_mode": {
    "name": "ipython",
    "version": 3
   },
   "file_extension": ".py",
   "mimetype": "text/x-python",
   "name": "python",
   "nbconvert_exporter": "python",
   "pygments_lexer": "ipython3",
   "version": "3.6.5"
  }
 },
 "nbformat": 4,
 "nbformat_minor": 2
}
