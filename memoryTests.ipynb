{
 "cells": [
  {
   "cell_type": "code",
   "execution_count": null,
   "metadata": {
    "scrolled": false
   },
   "outputs": [
    {
     "name": "stdout",
     "output_type": "stream",
     "text": [
      "found ops1 and pre-registered binaries\n",
      "overwriting ops1 with new ops\n",
      "skipping registration...\n",
      "F:/DATA\\suite2p\\plane0\\data.bin\n",
      "SVD computed in 45.82 sec\n"
     ]
    }
   ],
   "source": [
    "# load binary file\n",
    "import numpy as np\n",
    "import time\n",
    "import suite2p\n",
    "from suite2p.run_s2p import run_s2p\n",
    "import imp\n",
    "imp.reload(suite2p)\n",
    "\n",
    "def tic():\n",
    "    return time.time()\n",
    "def toc(i0):\n",
    "    return time.time() - i0\n",
    "\n",
    "ops = {\n",
    "    'nplanes': 1,\n",
    "    'diameter': 12,\n",
    "    'tau': 2.,\n",
    "    'fs': 2.5,\n",
    "    'data_path': ['\\\\zserver.cortexlab.net\\Data\\Subjects\\M150610_MP020\\2015-11-12\\2'],\n",
    "    #'data_path': ['C:/Users/carse/github/tiffs/'],\n",
    "    'save_path0': 'F:/DATA/',\n",
    "    #'data_path': 'C:\\Drive\\suite2python\\data',\n",
    "    'subfolders': [],#'1', '2', '5'],\n",
    "    'num_workers': 0,\n",
    "    'num_workers_roi': -1,\n",
    "    'reg_tif':False,\n",
    "    'max_iterations':10,    \n",
    "      }\n",
    "\n",
    "\n",
    "# copy tiff to a binary\n",
    "ops1 = run_s2p(ops)\n",
    "#ops1 = register.tiff_to_binary(ops)"
   ]
  }
 ],
 "metadata": {
  "kernelspec": {
   "display_name": "Python 3",
   "language": "python",
   "name": "python3"
  },
  "language_info": {
   "codemirror_mode": {
    "name": "ipython",
    "version": 3
   },
   "file_extension": ".py",
   "mimetype": "text/x-python",
   "name": "python",
   "nbconvert_exporter": "python",
   "pygments_lexer": "ipython3",
   "version": "3.6.5"
  }
 },
 "nbformat": 4,
 "nbformat_minor": 2
}
