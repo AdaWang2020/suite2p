{
 "cells": [
  {
   "cell_type": "code",
   "execution_count": 2,
   "metadata": {
    "scrolled": false
   },
   "outputs": [
    {
     "name": "stdout",
     "output_type": "stream",
     "text": [
      "Found 50 tifs\n",
      "time 21.5085. Wrote tifs to binaries for 1 planes\n",
      "computed reference frame for registration\n",
      "registered 4000/10000 frames in time 173.65\n",
      "registered 8000/10000 frames in time 345.02\n",
      "time 514.1733. Registration complete\n",
      "SVD computed in 35.63 sec\n",
      "cells: 215, cost: 0.6009, time: 65.1563\n",
      "cells: 369, cost: 0.5893, time: 90.0053\n",
      "cells: 460, cost: 0.5839, time: 117.8260\n",
      "cells: 506, cost: 0.5815, time: 145.5998\n",
      "cells: 520, cost: 0.5808, time: 172.8623\n",
      "cells: 520, cost: 515882.9062, time: 211.0097\n",
      "cells: 520, cost: 509372.9688, time: 230.5717\n",
      "cells: 520, cost: 507856.4375, time: 250.7293\n",
      "time 256.9247. Found 520 ROIs\n",
      "extracted 0/10000 frames in 3.71 sec\n",
      "extracted 5000/10000 frames in 22.70 sec\n",
      "extracted 10000/10000 frames in 38.51 sec\n",
      "time 304.0878. Extracted fluorescence from 520 ROIs\n",
      "time 321.4638. Detected spikes in 520 ROIs\n",
      "results saved to C:/Drive/suite2python/data1/suite2p\\plane0\n",
      "finished all tasks in 835.9830 sec\n"
     ]
    }
   ],
   "source": [
    "# load binary file\n",
    "import numpy as np\n",
    "import time\n",
    "import suite2p\n",
    "from suite2p.run_s2p import run_s2p\n",
    "import imp\n",
    "imp.reload(suite2p)\n",
    "\n",
    "def tic():\n",
    "    return time.time()\n",
    "def toc(i0):\n",
    "    return time.time() - i0\n",
    "\n",
    "ops = {\n",
    "    'nplanes': 1,\n",
    "    'diameter': 12,\n",
    "    'tau': 2.,\n",
    "    'fs': 2.5,\n",
    "    'data_path': ['C:/Drive/suite2python/data1/'],\n",
    "    #'data_path': ['C:/Users/carse/github/tiffs/'],\n",
    "    #'save_path0': 'C:/',\n",
    "    #'data_path': 'C:\\Drive\\suite2python\\data',\n",
    "    'subfolders': ['1', '2', '5'],\n",
    "    'num_workers': 0,\n",
    "    'num_workers_roi': -1,\n",
    "    'reg_tif':False,\n",
    "    'max_iterations':10,    \n",
    "      }\n",
    "\n",
    "\n",
    "# copy tiff to a binary\n",
    "ops1 = run_s2p(ops)\n",
    "#ops1 = register.tiff_to_binary(ops)"
   ]
  }
 ],
 "metadata": {
  "kernelspec": {
   "display_name": "Python 3",
   "language": "python",
   "name": "python3"
  },
  "language_info": {
   "codemirror_mode": {
    "name": "ipython",
    "version": 3
   },
   "file_extension": ".py",
   "mimetype": "text/x-python",
   "name": "python",
   "nbconvert_exporter": "python",
   "pygments_lexer": "ipython3",
   "version": "3.6.5"
  }
 },
 "nbformat": 4,
 "nbformat_minor": 2
}
