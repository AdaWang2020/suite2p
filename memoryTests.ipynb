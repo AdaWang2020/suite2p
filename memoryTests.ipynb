{
 "cells": [
  {
   "cell_type": "code",
   "execution_count": 3,
   "metadata": {
    "scrolled": false
   },
   "outputs": [
    {
     "name": "stdout",
     "output_type": "stream",
     "text": [
      "found ops1 and pre-registered binaries\n",
      "C:/Drive/suite2python/data1/suite2p\\plane0\\data.bin\n",
      "overwriting ops1 with new ops\n",
      "skipping registration...\n",
      "SVD computed in 33.01 sec\n",
      "cells: 215, cost: 0.6009, time: 59.3287\n",
      "cells: 369, cost: 0.5893, time: 81.9435\n",
      "cells: 460, cost: 0.5839, time: 106.2762\n",
      "cells: 506, cost: 0.5815, time: 131.0556\n",
      "cells: 520, cost: 0.5808, time: 156.2275\n",
      "cells: 520, cost: 515882.9062, time: 191.4732\n",
      "cells: 520, cost: 509372.9688, time: 209.4841\n",
      "cells: 520, cost: 507856.4375, time: 227.6083\n",
      "time 233.0348. Found 520 ROIs\n",
      "extracted 0/10000 frames in 3.77 sec\n",
      "extracted 5000/10000 frames in 22.38 sec\n",
      "extracted 10000/10000 frames in 36.91 sec\n",
      "time 278.4558. Extracted fluorescence from 520 ROIs\n",
      "time 298.4092. Detected spikes in 520 ROIs\n",
      "results saved to C:/Drive/suite2python/data1/suite2p\\plane0\n",
      "finished all tasks in 298.7913 sec\n"
     ]
    }
   ],
   "source": [
    "# load binary file\n",
    "import numpy as np\n",
    "import time\n",
    "import suite2p\n",
    "from suite2p.run_s2p import run_s2p\n",
    "import imp\n",
    "imp.reload(suite2p)\n",
    "\n",
    "def tic():\n",
    "    return time.time()\n",
    "def toc(i0):\n",
    "    return time.time() - i0\n",
    "\n",
    "ops = {\n",
    "    'nplanes': 1,\n",
    "    'diameter': 12,\n",
    "    'tau': 2.,\n",
    "    'fs': 2.5,\n",
    "    'data_path': ['C:/Drive/suite2python/data1/'],\n",
    "    #'data_path': ['C:/Users/carse/github/tiffs/'],\n",
    "    #'save_path0': 'C:/',\n",
    "    #'data_path': 'C:\\Drive\\suite2python\\data',\n",
    "    'subfolders': ['1', '2', '5'],\n",
    "    'num_workers': 0,\n",
    "    'num_workers_roi': -1,\n",
    "    'reg_tif':False,\n",
    "    'max_iterations':10,    \n",
    "      }\n",
    "\n",
    "\n",
    "# copy tiff to a binary\n",
    "ops1 = run_s2p(ops)"
   ]
  },
  {
   "cell_type": "code",
   "execution_count": 2,
   "metadata": {},
   "outputs": [
    {
     "name": "stdout",
     "output_type": "stream",
     "text": [
      "(1.0, 1.4907119849998598)\n"
     ]
    }
   ],
   "source": [
    "stat = np.load('C:\\Drive\\suite2python\\data1\\suite2p\\plane0\\stat.npy')\n",
    "stat = stat.item()\n",
    "\n",
    "x = np.zeros((len(stat),1))\n",
    "for k in range(len(stat)):\n",
    "    x[k] = stat[k]['compact']\n",
    "    \n",
    "print((np.min(x), np.max(x)))"
   ]
  },
  {
   "cell_type": "code",
   "execution_count": 6,
   "metadata": {},
   "outputs": [],
   "source": [
    "import numpy as np\n",
    "from suite2p import celldetect\n",
    "rs,dy,dx = celldetect.circleMask(12)\n",
    "rsort = np.sort(rs.flatten())\n",
    "\n"
   ]
  },
  {
   "cell_type": "code",
   "execution_count": 10,
   "metadata": {},
   "outputs": [
    {
     "name": "stdout",
     "output_type": "stream",
     "text": [
      "0.45610301536964504\n",
      "3.605551275463989\n",
      "3.1622776601683795\n",
      "1.1401754250991378\n"
     ]
    },
    {
     "data": {
      "image/png": "[encoded data removed]",
      "text/plain": [
       "<Figure size 864x864 with 1 Axes>"
      ]
     },
     "metadata": {},
     "output_type": "display_data"
    }
   ],
   "source": [
    "n = 0\n",
    "\n",
    "rs,dy,dx = celldetect.circleMask(12)\n",
    "\n",
    "r2 = (stat[n]['ypix']-int(stat[n]['med'][0]))**2 + (stat[n]['xpix']-int(stat[n]['med'][1]))**2\n",
    "\n",
    "#r2 = (stat[n]['ypix']-int(stat[n]['med'][0]))**2 + (stat[n]['xpix']-int(stat[n]['med'][1]))**2\n",
    "print(stat[n]['compact'])\n",
    "print(np.median(r2**.5))\n",
    "print(np.median(rsort[:r2.size]))\n",
    "cmpct = np.median(r2**.5) / np.median(rsort[:r2.size])\n",
    "\n",
    "print(cmpct)\n",
    "\n",
    "from matplotlib import pyplot as plt\n",
    "plt.figure(figsize=(12,12))\n",
    "plt.scatter(stat[n]['ypix'], stat[n]['xpix'])\n",
    "plt.show()"
   ]
  },
  {
   "cell_type": "code",
   "execution_count": 199,
   "metadata": {},
   "outputs": [
    {
     "data": {
      "text/plain": [
       "[389.0, 88.5]"
      ]
     },
     "execution_count": 199,
     "metadata": {},
     "output_type": "execute_result"
    }
   ],
   "source": [
    "stat[n]['med']"
   ]
  },
  {
   "cell_type": "code",
   "execution_count": null,
   "metadata": {},
   "outputs": [],
   "source": []
  }
 ],
 "metadata": {
  "kernelspec": {
   "display_name": "Python 3",
   "language": "python",
   "name": "python3"
  },
  "language_info": {
   "codemirror_mode": {
    "name": "ipython",
    "version": 3
   },
   "file_extension": ".py",
   "mimetype": "text/x-python",
   "name": "python",
   "nbconvert_exporter": "python",
   "pygments_lexer": "ipython3",
   "version": "3.6.5"
  }
 },
 "nbformat": 4,
 "nbformat_minor": 2
}
