{
 "cells": [
  {
   "cell_type": "code",
   "execution_count": null,
   "metadata": {},
   "outputs": [],
   "source": [
    "ops = {\n",
    "        'reg_file': 'H:/DATA/M150329_MP009_2015-04-29_2_4_5_6_plane1.bin',\n",
    "        'Ly':512,\n",
    "        'Lx':512,\n",
    "        'diameter':10,\n",
    "        'tau':  1., # this is the only parameter used for deconvolution per se        \n",
    "        'fs': 10.,  # sampling rate        \n",
    "        'baseline': 'maximin', # baselining mode\n",
    "        'win_baseline': 60., # window for maximin\n",
    "        'sig_baseline': 10., # smoothing constant for gaussian filter \n",
    "        'prctile_baseline': 8.,# smoothing constant for gaussian filter        \n",
    "        'neucoeff': .7,  # neuropil coefficient \n",
    "        'neumax': 1.,  # maximum neuropil coefficient (not implemented)\n",
    "        'niterneu': 5, # number of iterations when the neuropil coefficient is estimated (not implemented)\n",
    "        'maxregshift': 0.,\n",
    "        'subpixel' : 10,\n",
    "        'batch_size': 400, \n",
    "        'num_workers': 0, # 0 to select automatically, -1 to disable parallelism, N to enforce value\n",
    "      }\n",
    "\n"
   ]
  },
  {
   "cell_type": "code",
   "execution_count": null,
   "metadata": {},
   "outputs": [],
   "source": [
    "import register\n",
    "imp.reload(register)\n",
    "\n",
    "reg_file = open(ops['reg_file'], 'rb')\n",
    "\n",
    "with open(ops['reg_file'], 'rb') as reg_file:\n",
    "    buff = reg_file.read(Ly*Lx*nimgbatch*2)\n",
    "    while buff != '':\n",
    "        ## FIX LAST FRAME ISSUE !!!\n",
    "        buff = reg_file.read(Ly*Lx*nimgbatch*2)\n",
    "        data = np.frombuffer(buff, dtype=np.int16, offset=0)\n",
    "        data = np.reshape(data.astype(np.float32), (Ly,Lx,nimgbatch), order='F')\n",
    "        data = np.transpose(data, (2,0,1))\n",
    "        # subtract mean of batch\n",
    "        data = data - data.mean(axis=0)\n",
    "        # bin data\n",
    "        dbin = np.reshape(data, (nt0,-1,Ly,Lx))\n",
    "        dbin = np.squeeze(dbin.mean(axis=0))\n",
    "        print(dbin.shape)\n",
    "        #plt.imshow(data[0,:,:])#.mean(axis=0))\n",
    "        #plt.show()\n",
    "        \n",
    "        inds = ix + np.arange(0,dbin.shape[0])\n",
    "        mov[inds,:,:] = dbin\n",
    "        ix = ix + dbin.shape[0]\n",
    "\n",
    "mov = np.reshape(mov, (mov.shape[0],Ly*Lx))"
   ]
  }
 ],
 "metadata": {
  "kernelspec": {
   "display_name": "Python 3",
   "language": "python",
   "name": "python3"
  },
  "language_info": {
   "codemirror_mode": {
    "name": "ipython",
    "version": 3
   },
   "file_extension": ".py",
   "mimetype": "text/x-python",
   "name": "python",
   "nbconvert_exporter": "python",
   "pygments_lexer": "ipython3",
   "version": "3.6.5"
  }
 },
 "nbformat": 4,
 "nbformat_minor": 2
}
