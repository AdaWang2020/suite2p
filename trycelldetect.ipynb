{
 "cells": [
  {
   "cell_type": "code",
   "execution_count": 3,
   "metadata": {},
   "outputs": [
    {
     "ename": "FileNotFoundError",
     "evalue": "[Errno 2] No such file or directory: '/media/carsen/DATA1/2P/F/M150329_MP009/2015-04-29/2_4_5_6/regops_M150329_MP009_2015-04-29.mat'",
     "output_type": "error",
     "traceback": [
      "\u001b[1;31m---------------------------------------------------------------------------\u001b[0m",
      "\u001b[1;31mFileNotFoundError\u001b[0m                         Traceback (most recent call last)",
      "\u001b[1;32mc:\\users\\marius\\miniconda3\\lib\\site-packages\\scipy\\io\\matlab\\mio.py\u001b[0m in \u001b[0;36m_open_file\u001b[1;34m(file_like, appendmat)\u001b[0m\n\u001b[0;32m     32\u001b[0m     \u001b[1;32mtry\u001b[0m\u001b[1;33m:\u001b[0m\u001b[1;33m\u001b[0m\u001b[0m\n\u001b[1;32m---> 33\u001b[1;33m         \u001b[1;32mreturn\u001b[0m \u001b[0mopen\u001b[0m\u001b[1;33m(\u001b[0m\u001b[0mfile_like\u001b[0m\u001b[1;33m,\u001b[0m \u001b[1;34m'rb'\u001b[0m\u001b[1;33m)\u001b[0m\u001b[1;33m,\u001b[0m \u001b[1;32mTrue\u001b[0m\u001b[1;33m\u001b[0m\u001b[0m\n\u001b[0m\u001b[0;32m     34\u001b[0m     \u001b[1;32mexcept\u001b[0m \u001b[0mIOError\u001b[0m\u001b[1;33m:\u001b[0m\u001b[1;33m\u001b[0m\u001b[0m\n",
      "\u001b[1;31mFileNotFoundError\u001b[0m: [Errno 2] No such file or directory: '/media/carsen/DATA1/2P/F/M150329_MP009/2015-04-29/2_4_5_6/regops_M150329_MP009_2015-04-29.mat'",
      "\nDuring handling of the above exception, another exception occurred:\n",
      "\u001b[1;31mFileNotFoundError\u001b[0m                         Traceback (most recent call last)",
      "\u001b[1;32m<ipython-input-3-78fc15d0ff3d>\u001b[0m in \u001b[0;36m<module>\u001b[1;34m()\u001b[0m\n\u001b[0;32m     16\u001b[0m     \u001b[1;32mreturn\u001b[0m\u001b[1;33m(\u001b[0m\u001b[0mtime\u001b[0m\u001b[1;33m.\u001b[0m\u001b[0mtime\u001b[0m\u001b[1;33m(\u001b[0m\u001b[1;33m)\u001b[0m\u001b[1;33m-\u001b[0m\u001b[0mt0\u001b[0m\u001b[1;33m)\u001b[0m\u001b[1;33m\u001b[0m\u001b[0m\n\u001b[0;32m     17\u001b[0m \u001b[1;33m\u001b[0m\u001b[0m\n\u001b[1;32m---> 18\u001b[1;33m \u001b[0mops0\u001b[0m \u001b[1;33m=\u001b[0m \u001b[0msio\u001b[0m\u001b[1;33m.\u001b[0m\u001b[0mloadmat\u001b[0m\u001b[1;33m(\u001b[0m\u001b[1;34m'/media/carsen/DATA1/2P/F/M150329_MP009/2015-04-29/2_4_5_6/regops_M150329_MP009_2015-04-29.mat'\u001b[0m\u001b[1;33m)\u001b[0m\u001b[1;33m\u001b[0m\u001b[0m\n\u001b[0m",
      "\u001b[1;32mc:\\users\\marius\\miniconda3\\lib\\site-packages\\scipy\\io\\matlab\\mio.py\u001b[0m in \u001b[0;36mloadmat\u001b[1;34m(file_name, mdict, appendmat, **kwargs)\u001b[0m\n\u001b[0;32m    139\u001b[0m     \"\"\"\n\u001b[0;32m    140\u001b[0m     \u001b[0mvariable_names\u001b[0m \u001b[1;33m=\u001b[0m \u001b[0mkwargs\u001b[0m\u001b[1;33m.\u001b[0m\u001b[0mpop\u001b[0m\u001b[1;33m(\u001b[0m\u001b[1;34m'variable_names'\u001b[0m\u001b[1;33m,\u001b[0m \u001b[1;32mNone\u001b[0m\u001b[1;33m)\u001b[0m\u001b[1;33m\u001b[0m\u001b[0m\n\u001b[1;32m--> 141\u001b[1;33m     \u001b[0mMR\u001b[0m\u001b[1;33m,\u001b[0m \u001b[0mfile_opened\u001b[0m \u001b[1;33m=\u001b[0m \u001b[0mmat_reader_factory\u001b[0m\u001b[1;33m(\u001b[0m\u001b[0mfile_name\u001b[0m\u001b[1;33m,\u001b[0m \u001b[0mappendmat\u001b[0m\u001b[1;33m,\u001b[0m \u001b[1;33m**\u001b[0m\u001b[0mkwargs\u001b[0m\u001b[1;33m)\u001b[0m\u001b[1;33m\u001b[0m\u001b[0m\n\u001b[0m\u001b[0;32m    142\u001b[0m     \u001b[0mmatfile_dict\u001b[0m \u001b[1;33m=\u001b[0m \u001b[0mMR\u001b[0m\u001b[1;33m.\u001b[0m\u001b[0mget_variables\u001b[0m\u001b[1;33m(\u001b[0m\u001b[0mvariable_names\u001b[0m\u001b[1;33m)\u001b[0m\u001b[1;33m\u001b[0m\u001b[0m\n\u001b[0;32m    143\u001b[0m     \u001b[1;32mif\u001b[0m \u001b[0mmdict\u001b[0m \u001b[1;32mis\u001b[0m \u001b[1;32mnot\u001b[0m \u001b[1;32mNone\u001b[0m\u001b[1;33m:\u001b[0m\u001b[1;33m\u001b[0m\u001b[0m\n",
      "\u001b[1;32mc:\\users\\marius\\miniconda3\\lib\\site-packages\\scipy\\io\\matlab\\mio.py\u001b[0m in \u001b[0;36mmat_reader_factory\u001b[1;34m(file_name, appendmat, **kwargs)\u001b[0m\n\u001b[0;32m     62\u001b[0m \u001b[1;33m\u001b[0m\u001b[0m\n\u001b[0;32m     63\u001b[0m     \"\"\"\n\u001b[1;32m---> 64\u001b[1;33m     \u001b[0mbyte_stream\u001b[0m\u001b[1;33m,\u001b[0m \u001b[0mfile_opened\u001b[0m \u001b[1;33m=\u001b[0m \u001b[0m_open_file\u001b[0m\u001b[1;33m(\u001b[0m\u001b[0mfile_name\u001b[0m\u001b[1;33m,\u001b[0m \u001b[0mappendmat\u001b[0m\u001b[1;33m)\u001b[0m\u001b[1;33m\u001b[0m\u001b[0m\n\u001b[0m\u001b[0;32m     65\u001b[0m     \u001b[0mmjv\u001b[0m\u001b[1;33m,\u001b[0m \u001b[0mmnv\u001b[0m \u001b[1;33m=\u001b[0m \u001b[0mget_matfile_version\u001b[0m\u001b[1;33m(\u001b[0m\u001b[0mbyte_stream\u001b[0m\u001b[1;33m)\u001b[0m\u001b[1;33m\u001b[0m\u001b[0m\n\u001b[0;32m     66\u001b[0m     \u001b[1;32mif\u001b[0m \u001b[0mmjv\u001b[0m \u001b[1;33m==\u001b[0m \u001b[1;36m0\u001b[0m\u001b[1;33m:\u001b[0m\u001b[1;33m\u001b[0m\u001b[0m\n",
      "\u001b[1;32mc:\\users\\marius\\miniconda3\\lib\\site-packages\\scipy\\io\\matlab\\mio.py\u001b[0m in \u001b[0;36m_open_file\u001b[1;34m(file_like, appendmat)\u001b[0m\n\u001b[0;32m     37\u001b[0m             \u001b[1;32mif\u001b[0m \u001b[0mappendmat\u001b[0m \u001b[1;32mand\u001b[0m \u001b[1;32mnot\u001b[0m \u001b[0mfile_like\u001b[0m\u001b[1;33m.\u001b[0m\u001b[0mendswith\u001b[0m\u001b[1;33m(\u001b[0m\u001b[1;34m'.mat'\u001b[0m\u001b[1;33m)\u001b[0m\u001b[1;33m:\u001b[0m\u001b[1;33m\u001b[0m\u001b[0m\n\u001b[0;32m     38\u001b[0m                 \u001b[0mfile_like\u001b[0m \u001b[1;33m+=\u001b[0m \u001b[1;34m'.mat'\u001b[0m\u001b[1;33m\u001b[0m\u001b[0m\n\u001b[1;32m---> 39\u001b[1;33m             \u001b[1;32mreturn\u001b[0m \u001b[0mopen\u001b[0m\u001b[1;33m(\u001b[0m\u001b[0mfile_like\u001b[0m\u001b[1;33m,\u001b[0m \u001b[1;34m'rb'\u001b[0m\u001b[1;33m)\u001b[0m\u001b[1;33m,\u001b[0m \u001b[1;32mTrue\u001b[0m\u001b[1;33m\u001b[0m\u001b[0m\n\u001b[0m\u001b[0;32m     40\u001b[0m         \u001b[1;32melse\u001b[0m\u001b[1;33m:\u001b[0m\u001b[1;33m\u001b[0m\u001b[0m\n\u001b[0;32m     41\u001b[0m             \u001b[1;32mraise\u001b[0m \u001b[0mIOError\u001b[0m\u001b[1;33m(\u001b[0m\u001b[1;34m'Reader needs file name or open file-like object'\u001b[0m\u001b[1;33m)\u001b[0m\u001b[1;33m\u001b[0m\u001b[0m\n",
      "\u001b[1;31mFileNotFoundError\u001b[0m: [Errno 2] No such file or directory: '/media/carsen/DATA1/2P/F/M150329_MP009/2015-04-29/2_4_5_6/regops_M150329_MP009_2015-04-29.mat'"
     ]
    }
   ],
   "source": [
    "# load binary file\n",
    "import numpy as np\n",
    "from scipy.ndimage import filters\n",
    "from scipy.ndimage import gaussian_filter\n",
    "import scipy.sparse as sparse\n",
    "import time\n",
    "import matplotlib.pyplot as plt\n",
    "import math\n",
    "import scipy.io as sio\n",
    "from matplotlib.colors import hsv_to_rgb\n",
    "%matplotlib inline\n",
    "\n",
    "def tic():\n",
    "    return(time.time())\n",
    "def toc(t0):\n",
    "    return(time.time()-t0)\n",
    "\n",
    "ops0 = sio.loadmat('/media/carsen/DATA1/2P/F/M150329_MP009/2015-04-29/2_4_5_6/regops_M150329_MP009_2015-04-29.mat')"
   ]
  },
  {
   "cell_type": "code",
   "execution_count": null,
   "metadata": {},
   "outputs": [],
   "source": [
    "ops1 = ops0['ops1']\n",
    "\n",
    "print(ops1[0])"
   ]
  },
  {
   "cell_type": "code",
   "execution_count": null,
   "metadata": {},
   "outputs": [],
   "source": [
    "ops = {\n",
    "        'reg_file': '/media/carsen/SSD/BIN/M150329_MP009_2015-04-29_2_4_5_6_plane1.bin',\n",
    "        'Ly': 499,\n",
    "        'Lx': 494,\n",
    "        'ny': 512,\n",
    "        'nx': 512,\n",
    "        'navg_frames_svd': 5000,\n",
    "        'nsvd_for_roi': 1000,\n",
    "        'ratio_neuropil': 6,\n",
    "        'tile_factor': 1,\n",
    "        'diameter': 12,\n",
    "        'threshold_scaling': 1,\n",
    "        'Vcorr': [],\n",
    "        'yrange': np.arange(7,506),\n",
    "        'xrange': np.arange(9,503),\n",
    "        'allow_overlap': False,\n",
    "        'inner_neuropil_radius': 2, \n",
    "        'outer_neuropil_radius': np.inf, \n",
    "        'min_neuropil_pixels': 350, \n",
    "        'ratio_neuropil_to_cell': 4,\n",
    "        'nframes': 153187.0\n",
    "    }\n",
    "nframes = ops['nframes']\n",
    "\n",
    "nt0 = np.ceil(nframes / ops['navg_frames_svd']);\n",
    "nt0 = int(nt0)\n",
    "print(nt0)\n",
    "nimgbatch = nt0 * int(np.floor(2000/nt0));\n",
    "print(nimgbatch)"
   ]
  },
  {
   "cell_type": "code",
   "execution_count": null,
   "metadata": {
    "scrolled": true
   },
   "outputs": [],
   "source": [
    "# load and bin data\n",
    "\n",
    "mov = np.zeros((ops['navg_frames_svd'], ops['Ly'], ops['Lx']), np.float32)\n",
    "\n",
    "Ly = ops['Ly']\n",
    "Lx = ops['Lx']\n",
    "ny = ops['ny']\n",
    "nx = ops['nx']\n",
    "\n",
    "reg_file = open(ops['reg_file'], 'rb')\n",
    "nimgbatch = int(nimgbatch)\n",
    "block_size = ny*nx*nimgbatch*2\n",
    "ix = 0\n",
    "data = 1 \n",
    "while data is not None:\n",
    "    buff = reg_file.read(block_size)\n",
    "    data = np.frombuffer(buff, dtype=np.int16, offset=0)\n",
    "    nimgd = int(np.floor(data.size / (ny*nx)))\n",
    "    if nimgd == 0:\n",
    "        break\n",
    "    data = np.reshape(data.astype(np.float32), (ny,nx,nimgd), order='F')\n",
    "    data = np.transpose(data, (2,0,1))\n",
    "    # subtract mean of batch\n",
    "    data = data - data.mean(axis=0)\n",
    "    # bin data\n",
    "    if nimgd < nimgbatch:\n",
    "        nmax = int(np.floor(nimgd / nt0) * nt0)\n",
    "        data = data[:nmax,:,:]\n",
    "    dbin = np.reshape(data, (nt0,-1,ny,nx))\n",
    "    dbin = np.squeeze(dbin.mean(axis=0))\n",
    "    print(dbin.shape)\n",
    "    inds = ix + np.arange(0,dbin.shape[0])\n",
    "    # crop into valid area\n",
    "    mov[inds,:,:] = dbin[:, ops['yrange'][0]:ops['yrange'][-1]+1, ops['xrange'][0]:ops['xrange'][-1]+1]\n",
    "    ix += dbin.shape[0]\n",
    "        \n",
    "reg_file.close()\n",
    "mov = np.reshape(mov, (mov.shape[0],Ly*Lx))"
   ]
  },
  {
   "cell_type": "code",
   "execution_count": null,
   "metadata": {},
   "outputs": [],
   "source": [
    "mov = np.reshape(mov, (mov.shape[0],Ly*Lx))"
   ]
  },
  {
   "cell_type": "code",
   "execution_count": null,
   "metadata": {},
   "outputs": [],
   "source": [
    "### take SVDs of data\n",
    "print(mov.shape)\n",
    "# compute noise variance across frames (assumes slow signal)\n",
    "sdmov = np.mean(np.diff(mov)**2)**.5\n",
    "sdmov = max(1e-10,sdmov)\n",
    "# normalize pixels by noise variance\n",
    "mov = mov / sdmov"
   ]
  },
  {
   "cell_type": "code",
   "execution_count": null,
   "metadata": {},
   "outputs": [],
   "source": [
    "import celldetect\n",
    "import imp\n",
    "imp.reload(celldetect)\n",
    "S = celldetect.getNeuropilBasis(ops, Ly, Lx)"
   ]
  },
  {
   "cell_type": "code",
   "execution_count": null,
   "metadata": {},
   "outputs": [],
   "source": [
    "# compute covariance of binned frames\n",
    "cov = (mov @ np.transpose(mov)) / mov.shape[1]\n",
    "\n",
    "nsvd_for_roi = min(ops['nsvd_for_roi'], cov.shape[0]-2)\n",
    "# compute svd of covariance\n",
    "t0=tic()\n",
    "u, s, v = np.linalg.svd(cov)\n",
    "print(toc(t0))\n",
    "u = u[:, :nsvd_for_roi]\n",
    "U = u.transpose() @ mov\n",
    "\n",
    "## we will return U, sdmov\n",
    "nsvd = U.shape[0]\n",
    "\n",
    "# compute covariance of neuropil masks with spatial masks\n",
    "StU = S @ U.transpose()\n",
    "StS = S @ S.transpose()\n",
    "\n",
    "U = np.reshape(U, (nsvd,Ly,Lx))"
   ]
  },
  {
   "cell_type": "code",
   "execution_count": null,
   "metadata": {},
   "outputs": [],
   "source": [
    "#from matplotlib.colors import hsv_to_rgb\n",
    "def drawClusters(r,mPix,mLam,Ly,Lx):\n",
    "    ncells = mPix.shape[1]\n",
    "    r=np.random.random((ncells,))\n",
    "    iclust = -1*np.ones((Ly,Lx),np.int32)\n",
    "    Lam = np.zeros((Ly,Lx))\n",
    "    H = np.zeros((Ly,Lx,1))\n",
    "    for n in range(ncells):\n",
    "        goodi   = np.array((mPix[:,n]>=0).nonzero()).astype(np.int32)\n",
    "        goodi   = goodi.flatten()\n",
    "        n0      = n*np.ones(goodi.shape,np.int32)\n",
    "        lam     = mLam[goodi,n0]\n",
    "        ipix    = mPix[mPix[:,n]>=0,n].astype(np.int32)\n",
    "        if ipix is not None:\n",
    "            ypix,xpix = np.unravel_index(ipix, (Ly,Lx))\n",
    "            isingle = Lam[ypix,xpix]+1e-4 < lam\n",
    "            ypix = ypix[isingle]\n",
    "            xpix = xpix[isingle]\n",
    "            Lam[ypix,xpix] = lam[isingle]\n",
    "            iclust[ypix,xpix] = n*np.ones(ypix.shape)\n",
    "            H[ypix,xpix,0] = r[n]*np.ones(ypix.shape)\n",
    "        \n",
    "    S  = np.ones((Ly,Lx,1))\n",
    "    V  = np.maximum(0, np.minimum(1, 0.75 * Lam / Lam[Lam>1e-10].mean()))\n",
    "    V  = np.expand_dims(V,axis=2)\n",
    "    hsv = np.concatenate((H,S,V),axis=2)\n",
    "    rgb = hsv_to_rgb(hsv)\n",
    "    plt.figure(figsize=(10,10))\n",
    "    plt.imshow(rgb[:150,:150])\n",
    "    plt.show()\n",
    "        "
   ]
  },
  {
   "cell_type": "code",
   "execution_count": 2,
   "metadata": {},
   "outputs": [
    {
     "ename": "NameError",
     "evalue": "name 'ops' is not defined",
     "output_type": "error",
     "traceback": [
      "\u001b[1;31m---------------------------------------------------------------------------\u001b[0m",
      "\u001b[1;31mNameError\u001b[0m                                 Traceback (most recent call last)",
      "\u001b[1;32m<ipython-input-2-0b8fbc9a23d5>\u001b[0m in \u001b[0;36m<module>\u001b[1;34m()\u001b[0m\n\u001b[1;32m----> 1\u001b[1;33m \u001b[0md0\u001b[0m \u001b[1;33m=\u001b[0m \u001b[0mops\u001b[0m\u001b[1;33m[\u001b[0m\u001b[1;34m'diameter'\u001b[0m\u001b[1;33m]\u001b[0m\u001b[1;33m\u001b[0m\u001b[0m\n\u001b[0m\u001b[0;32m      2\u001b[0m \u001b[0msig\u001b[0m \u001b[1;33m=\u001b[0m \u001b[0mnp\u001b[0m\u001b[1;33m.\u001b[0m\u001b[0mceil\u001b[0m\u001b[1;33m(\u001b[0m\u001b[0md0\u001b[0m \u001b[1;33m/\u001b[0m \u001b[1;36m4\u001b[0m\u001b[1;33m)\u001b[0m \u001b[1;31m# smoothing constant\u001b[0m\u001b[1;33m\u001b[0m\u001b[0m\n\u001b[0;32m      3\u001b[0m \u001b[1;33m\u001b[0m\u001b[0m\n\u001b[0;32m      4\u001b[0m \u001b[1;31m# make array of radii values of size (2*d0+1,2*d0+1)\u001b[0m\u001b[1;33m\u001b[0m\u001b[1;33m\u001b[0m\u001b[0m\n\u001b[0;32m      5\u001b[0m \u001b[0mrs\u001b[0m\u001b[1;33m,\u001b[0m\u001b[0mdy\u001b[0m\u001b[1;33m,\u001b[0m\u001b[0mdx\u001b[0m     \u001b[1;33m=\u001b[0m \u001b[0mcelldetect\u001b[0m\u001b[1;33m.\u001b[0m\u001b[0mcircleMask\u001b[0m\u001b[1;33m(\u001b[0m\u001b[1;36m2\u001b[0m\u001b[1;33m*\u001b[0m\u001b[0md0\u001b[0m\u001b[1;33m)\u001b[0m\u001b[1;33m\u001b[0m\u001b[0m\n",
      "\u001b[1;31mNameError\u001b[0m: name 'ops' is not defined"
     ]
    }
   ],
   "source": [
    "d0 = ops['diameter']\n",
    "sig = np.ceil(d0 / 4) # smoothing constant\n",
    "\n",
    "# make array of radii values of size (2*d0+1,2*d0+1)\n",
    "rs,dy,dx     = celldetect.circleMask(2*d0)\n",
    "rsmall,dy,dx = celldetect.circleMask(d0)\n",
    "\n",
    "ncell = int(1e4)\n",
    "mPix = -1*np.ones((dx.size, ncell), np.int32)\n",
    "mLam = np.zeros((dx.size, ncell), np.float32)\n",
    "\n",
    "it = 0\n",
    "\n",
    "ncells = 0\n",
    "r = np.random.random((ncell,))\n",
    "\n",
    "L = sparse.lil_matrix((1,Ly*Lx), dtype=np.float32)\n",
    "nsvd = U.shape[0]\n",
    "nbasis = S.shape[0]\n",
    "LtU = np.zeros((0,nsvd), np.float32)\n",
    "LtS = np.zeros((0,nbasis), np.float32)\n",
    "\n",
    "# regress maps onto basis functions and subtract neuropil contribution\n",
    "# U = Ucell + neu'*S'\n",
    "# neu = inv(S'*S) * (S'*U')\n",
    "\n",
    "neu = np.linalg.solve(StS, StU)\n",
    "Ucell = U - np.reshape(neu.transpose() @ S, U.shape)\n"
   ]
  },
  {
   "cell_type": "code",
   "execution_count": null,
   "metadata": {
    "scrolled": true
   },
   "outputs": [],
   "source": [
    "def sub2ind(array_shape, rows, cols):\n",
    "    inds = rows * array_shape[1] + cols\n",
    "    return inds\n",
    "\n",
    "err = (Ucell**2).mean()\n",
    "print(err)\n",
    "it = 0\n",
    "while it<2:\n",
    "    # smooth residual\n",
    "    t0 = tic()\n",
    "    us = gaussian_filter(Ucell, [0., sig, sig],  mode='wrap')\n",
    "    \n",
    "    # compute log variance at each location\n",
    "    V = (us**2).mean(axis=0)\n",
    "    um = (Ucell**2).mean(axis=0)\n",
    "    um = gaussian_filter(um, [sig, sig],  mode='wrap')\n",
    "    V  = V / um\n",
    "    \n",
    "    if it==0:\n",
    "        # perform morphological opening on V to normalize brightness\n",
    "        vrem   = celldetect.morphOpen(V, rs<=d0)\n",
    "        V      = V - vrem\n",
    "        # find indices of all maxima in +/- 1 range\n",
    "        # use the median of these peaks to decide stopping criterion\n",
    "        maxV   = filters.maximum_filter(V, footprint= rs<=1)\n",
    "        imax   = V > (maxV - 1e-10)\n",
    "        peaks  = V[imax]\n",
    "        thres  = ops['threshold_scaling'] * np.median(peaks[peaks>1e-4])\n",
    "        ops['Vcorr'] = V\n",
    "    else:\n",
    "        V = V - vrem\n",
    "        # in case this exceeds original value\n",
    "        V = np.minimum(V, ops['Vcorr'])\n",
    "    \n",
    "    plt.imshow(V[:150,:150],vmin=0,vmax=0.005)\n",
    "    plt.show()\n",
    "        \n",
    "    # find local maxima in a +/- d0 neighborhood\n",
    "    i,j  = celldetect.localMax(V, rs<=d0, thres)\n",
    "    if i.size==0:\n",
    "        break\n",
    "    \n",
    "    # svd values of cell peaks\n",
    "    new_codes = us[:,i,j]\n",
    "    new_codes = new_codes / np.sum(new_codes**2, axis=0)**0.5\n",
    "    \n",
    "    for n in range(ncells, ncells+new_codes.shape[1]):\n",
    "        ypix, xpix, goodi = celldetect.localRegion(i[n-ncells],j[n-ncells],dy,dx,Ly,Lx)\n",
    "        # weights of svds surrounding max projected onto peak weights\n",
    "        usub = Ucell[:, ypix, xpix]\n",
    "        lam = np.maximum(0, new_codes[:,n-ncells].transpose() @ usub)\n",
    "        lam[lam<lam.max()/5] = 0\n",
    "        ipix = sub2ind((Ly,Lx), ypix, xpix)\n",
    "        n0 = n*np.ones((goodi.sum(),),np.int32)\n",
    "        mPix[goodi,n0] = ipix\n",
    "        #print((mPix[:,n]>0).sum())\n",
    "        mLam[goodi,n0] = lam\n",
    "        # get connected region\n",
    "        mLam[:,n] = celldetect.connectedRegion(mLam[:,n], rsmall, d0)\n",
    "        mLam[:,n] = mLam[:,n] / np.sum(mLam[:,n]**2)**0.5\n",
    "        # save lam in L, LtU, and LtS\n",
    "        lam  = mLam[goodi,n]\n",
    "        lam0 = np.zeros((1,Ly*Lx),np.float32)\n",
    "        lam0[0,ipix] = lam\n",
    "        if n>0:\n",
    "            L = sparse.vstack([L, lam0])\n",
    "        else:\n",
    "            L[0,:] = lam0\n",
    "        lam = np.expand_dims(lam,axis=0)\n",
    "        LtU = np.append(LtU, lam @ np.resize(U[:,ypix,xpix], (nsvd,ypix.size)).transpose(), axis=0)\n",
    "        LtS = np.append(LtS, lam @ S[:,ipix].transpose(), axis=0)\n",
    "    \n",
    "    ncells += new_codes.shape[1]\n",
    "\n",
    "    \n",
    "    # regression with neuropil\n",
    "    L = sparse.csr_matrix(L)\n",
    "    LtL = (L @ L.transpose()).toarray()\n",
    "    cellcode = np.concatenate((LtL,LtS), axis=1)\n",
    "    neucode  = np.concatenate((LtS.transpose(),StS), axis=1)\n",
    "    codes = np.concatenate((cellcode, neucode), axis=0)\n",
    "    Ucode = np.concatenate((LtU, StU),axis=0)\n",
    "    codes = np.linalg.solve(codes + 1e-3*np.eye((codes.shape[0])), Ucode)\n",
    "    neu   = codes[ncells:,:]\n",
    "    codes = codes[:ncells,:]\n",
    "\n",
    "    Ucell = U - np.resize(neu.transpose() @ S, U.shape) - np.resize(codes.transpose() @ L, U.shape)\n",
    "    \n",
    "    # reestimate masks\n",
    "    L = sparse.lil_matrix((1,Ly*Lx),dtype=np.float32)\n",
    "    #L = sparse.csr_matrix((Ly*Lx,ncells), dtype=np.float32)\n",
    "    for n in range(0,ncells):\n",
    "        goodi   = np.array((mPix[:,n]>=0).nonzero()).astype(np.int32)\n",
    "        goodi   = goodi.flatten()\n",
    "        n0      = n*np.ones(goodi.shape,np.int32)\n",
    "        ipix    = mPix[goodi,n0].astype(np.int32)\n",
    "        ypix,xpix = np.unravel_index(ipix.astype(np.int32), (Ly,Lx))\n",
    "        usub    = (np.resize(Ucell[:,ypix,xpix],(nsvd,goodi.size)) \n",
    "                 + np.expand_dims(codes[n,:],axis=-1) @ np.expand_dims(mLam[goodi,n0],axis=0))\n",
    "           \n",
    "        lam = np.maximum(0, codes[n,:] @ usub)\n",
    "        lam[lam<lam.max()/5] = 0\n",
    "        mLam[goodi,n0] = lam\n",
    "        mLam[:,n]  = celldetect.connectedRegion(mLam[:,n], rsmall, d0)\n",
    "        mLam[:,n]  = mLam[:,n] / np.sum(mLam[:,n]**2)**0.5\n",
    "        # save lam in L, LtU, and LtS\n",
    "        lam = mLam[goodi,n]\n",
    "        lam0 = np.zeros((1,Ly*Lx),np.float32)\n",
    "        lam0[0,ipix] = lam\n",
    "        if n>0:\n",
    "            L = sparse.vstack([L, lam0])\n",
    "        else:\n",
    "            L[0,:] = lam0\n",
    "        #L[n,:] = lam0\n",
    "        lam = np.expand_dims(lam,axis=0)\n",
    "        LtU[n,:]  = lam @ np.resize(U[:,ypix,xpix], (nsvd,ypix.size)).transpose()\n",
    "        LtS[n,:]  = lam @ S[:,ipix].transpose()\n",
    "         \n",
    "        Ucell[:,ypix,xpix] = usub - (usub @ lam.transpose()) @ lam\n",
    "        \n",
    "    #plt.imshow(np.sum(Ucell[:,:150,:150]**2, axis=0)**.5)\n",
    "    #plt.show()\n",
    "    err = (Ucell**2).mean()\n",
    "    print(err, toc(t0))\n",
    "    \n",
    "    drawClusters(r,mPix,mLam,Ly,Lx)\n",
    "    \n",
    "    if it==0:\n",
    "        Nfirst = i.size\n",
    "    \n",
    "    \n",
    "    \n",
    "    \n",
    "    it += 1\n",
    "    \n",
    "mLam = mLam[:,:ncells]\n",
    "mLam = mLam / np.expand_dims(mLam.sum(axis=1),axis=-1)\n",
    "mPix = mPix[:,:ncells]   "
   ]
  },
  {
   "cell_type": "code",
   "execution_count": null,
   "metadata": {},
   "outputs": [],
   "source": [
    "Ucell = U - np.resize(neu.transpose() @ S, U.shape)\n",
    "#ypix, xpix, goodi = celldetect.localRegion(i[n-ncells],j[n-ncells],dy,dx,Ly,Lx)\n",
    "\n",
    "stat = celldetect.getStat(Ly,Lx,d0,mPix,mLam,codes,Ucell)    \n",
    "stat = celldetect.getOverlaps(stat,Ly,Lx)\n",
    "stat,cell_pix,cell_masks =celldetect.cellMasks(stat,Ly,Lx,False)\n",
    "neuropil_masks = celldetect.neuropilMasks(ops,stat,cell_pix)\n",
    "# add surround neuropil masks to stat\n",
    "for n in range(ncells):\n",
    "    stat[n]['ipix_neuropil'] = neuropil_masks[n,:,:].flatten().nonzero();\n",
    "\n",
    "neuropil_masks = sparse.csc_matrix(np.resize(neuropil_masks,(-1,Ly*Lx)))\n",
    "cell_masks     = sparse.csc_matrix(np.resize(cell_masks,(-1,Ly*Lx)))"
   ]
  },
  {
   "cell_type": "code",
   "execution_count": null,
   "metadata": {},
   "outputs": [],
   "source": [
    "nimgbatch = 2000\n",
    "nframes = int(ops['nframes'])\n",
    "ny = ops['ny']\n",
    "nx = ops['nx']\n",
    "ncells = cell_masks.shape[0]\n",
    "F    = np.zeros((ncells,nframes),np.float32)\n",
    "Fneu = np.zeros((ncells,nframes),np.float32)\n",
    "\n",
    "reg_file.close()\n",
    "reg_file = open(ops['reg_file'], 'rb')\n",
    "nimgbatch = int(nimgbatch)\n",
    "block_size = ny*nx*nimgbatch*2\n",
    "ix = 0\n",
    "data = 1 \n",
    "t0 = tic()\n",
    "while data is not None:\n",
    "    buff = reg_file.read(block_size)\n",
    "    data = np.frombuffer(buff, dtype=np.int16, offset=0)\n",
    "    nimgd = int(np.floor(data.size / (ny*nx)))\n",
    "    if nimgd == 0:\n",
    "        break\n",
    "    data = np.reshape(data.astype(np.float32), (ny,nx,nimgd), order='F')\n",
    "    data = np.transpose(data,(2,0,1))\n",
    "    # crop data to valid region\n",
    "    data = data[:, ops['yrange'][0]:ops['yrange'][-1]+1, ops['xrange'][0]:ops['xrange'][-1]+1]\n",
    "    # resize data to be Ly*Lx by nimgd\n",
    "    data = np.resize(data, (nimgd,Ly*Lx)).transpose()\n",
    "    # compute cell activity\n",
    "    inds = ix + np.arange(0,data.shape[1])\n",
    "    F[:,inds]    = cell_masks @ data\n",
    "    # compute neuropil activity\n",
    "    Fneu[:,inds] = neuropil_masks @ data\n",
    "    ix += data.shape[1]\n",
    "    print(ix, toc(t0))\n",
    "        \n",
    "reg_file.close()\n"
   ]
  },
  {
   "cell_type": "code",
   "execution_count": null,
   "metadata": {},
   "outputs": [],
   "source": [
    "plt.plot(F[503,:6000])"
   ]
  },
  {
   "cell_type": "code",
   "execution_count": null,
   "metadata": {},
   "outputs": [],
   "source": [
    "def removeBadFrames(ops,F,Fneu):\n",
    "    '''add nan's when bad frames occur (high movement frames) '''\n",
    "    return F,Fneu\n",
    "\n",
    "def activityStat(stat,F,Fneu):\n",
    "    dF = F - 0.7 * Fneu\n",
    "    sd = F.std(axis=1)\n",
    "    sdN = Fneu.std(axis=1)\n",
    "    std_cell = sd / sdN\n",
    "    skew = np.skew(dF,axis=1)\n",
    "    for n in range(ncells):\n",
    "    return stat"
   ]
  },
  {
   "cell_type": "code",
   "execution_count": null,
   "metadata": {},
   "outputs": [],
   "source": [
    "print(stat[2]['radius'])\n",
    "inner_radius = 2\n",
    "expanded_cell_pix = ndimage.grey_dilation(cell_pix, (inner_radius,inner_radius))\n",
    "plt.subplot(121)\n",
    "plt.imshow(cell_pix[:100,:100])\n",
    "plt.subplot(122)\n",
    "plt.imshow(expanded_cell_pix[:100,:100])\n",
    "plt.show()\n",
    "print(expanded_cell_pix[:100,:100])"
   ]
  },
  {
   "cell_type": "code",
   "execution_count": null,
   "metadata": {},
   "outputs": [],
   "source": [
    "plt.imshow(cell_pix)"
   ]
  },
  {
   "cell_type": "code",
   "execution_count": null,
   "metadata": {},
   "outputs": [],
   "source": [
    "n+=1\n",
    "plt.imshow(neuropil_masks[n,:,:])\n",
    "plt.plot(stat[n]['med'][1],stat[n]['med'][0],'o')\n",
    "neuropil_masks[n,:,:].sum()"
   ]
  },
  {
   "cell_type": "code",
   "execution_count": null,
   "metadata": {},
   "outputs": [],
   "source": [
    "n = 410\n",
    "mask = np.zeros((Ly,Lx))\n",
    "overlap = stat[n]['overlap']\n",
    "ipix = stat[n]['ipix'][~overlap]\n",
    "ypix = stat[n]['ypix'][~overlap]\n",
    "xpix = stat[n]['xpix'][~overlap]\n",
    "lam  = stat[n]['lam'][~overlap]\n",
    "lam = lam / lam.sum()\n",
    "print(lam)\n",
    "mask[ypix,xpix] = lam\n",
    "params = utils.fitMVGaus(ypix,xpix,lam,2)\n",
    "plt.imshow(mask)\n",
    "plt.plot(params[3][:,1],params[3][:,0])\n",
    "#plt.plot(ypix[lam>.001],xpix[lam>.001],'.')\n",
    "mu = params[0]\n",
    "plt.xlim([mu[1]-10,mu[1]+10])\n",
    "plt.ylim([mu[0]-10,mu[0]+10])\n",
    "plt.show()"
   ]
  },
  {
   "cell_type": "code",
   "execution_count": 155,
   "metadata": {},
   "outputs": [
    {
     "name": "stdout",
     "output_type": "stream",
     "text": [
      "0.04390263557434082\n"
     ]
    }
   ],
   "source": [
    "import numpy as np\n",
    "import fig\n",
    "stat = np.load('../data/stat.npy')\n",
    "stat = stat.item()\n",
    "ops = np.load('../data/ops.npy')\n",
    "iscell = np.load('../data/iscell.npy')\n",
    "for n in range(0,ncells):\n",
    "    ypix = stat[n]['ypix'][~stat[n]['overlap']]\n",
    "    xpix = stat[n]['xpix'][~stat[n]['overlap']]\n",
    "    iext = fig.boundary(ypix, xpix)\n",
    "    stat[n]['iext'] = iext\n",
    "        \n",
    "ops = ops.item()\n",
    "ncells = len(stat)-1\n",
    "Ly = ops['Ly']\n",
    "Lx = ops['Lx']\n",
    "iROI = -1 * np.ones((Ly,Lx), dtype=np.int32)\n",
    "iMask   = -1 * np.ones((2,Ly,Lx), dtype=np.int32)\n",
    "iExt   = -1 * np.ones((2,Ly,Lx), dtype=np.int32)\n",
    "Lam  = np.zeros((2,Ly,Lx), np.float32)\n",
    "LamExt  = np.zeros((2,Ly,Lx), np.float32)\n",
    "Smask  = np.zeros((2,Ly,Lx), np.float32)\n",
    "Sext  = np.zeros((2,Ly,Lx), np.float32)\n",
    "t0=tic()\n",
    "for n in range(ncells):\n",
    "    ypix = stat[n]['ypix'][~stat[n]['overlap']]\n",
    "    if ypix is not None:\n",
    "        lam = stat[n]['lam'][~stat[n]['overlap']] \n",
    "        lam = lam / lam.sum()\n",
    "        xpix = stat[n]['xpix'][~stat[n]['overlap']]\n",
    "        yext = ypix[stat[n]['iext']]\n",
    "        xext = xpix[stat[n]['iext']]\n",
    "        #lamext = stat[n]['lam'][iext]\n",
    "        #lamext = lamext / lamext.sum()\n",
    "        iROI[ypix,xpix] = n\n",
    "        iMask[int(1-iscell[n]),ypix,xpix] = n\n",
    "        iExt[int(1-iscell[n]),yext,xext] = n\n",
    "        Lam[int(1-iscell[n]),ypix,xpix] = lam\n",
    "        Smask[int(1-iscell[n]),ypix,xpix] = 1\n",
    "        Sext[int(1-iscell[n]),yext,xext] = 1        \n",
    "print(toc(t0))"
   ]
  },
  {
   "cell_type": "code",
   "execution_count": 78,
   "metadata": {},
   "outputs": [
    {
     "data": {
      "text/plain": [
       "(1, 15)"
      ]
     },
     "execution_count": 78,
     "metadata": {},
     "output_type": "execute_result"
    }
   ],
   "source": [
    "stat[n]['iext'].shape"
   ]
  },
  {
   "cell_type": "code",
   "execution_count": 189,
   "metadata": {},
   "outputs": [
    {
     "data": {
      "text/plain": [
       "<matplotlib.image.AxesImage at 0x259b70af2e8>"
      ]
     },
     "execution_count": 189,
     "metadata": {},
     "output_type": "execute_result"
    },
    {
     "data": {
      "image/png": "[encoded data removed]",
      "text/plain": [
       "<Figure size 432x288 with 1 Axes>"
      ]
     },
     "metadata": {},
     "output_type": "display_data"
    }
   ],
   "source": [
    "import matplotlib.pyplot as plt\n",
    "from matplotlib.colors import hsv_to_rgb\n",
    "\n",
    "%matplotlib inline\n",
    "\n",
    "vcorr = ops['Vcorr']\n",
    "mimg = np.zeros((ops['Ly'],ops['Lx']),np.float32)\n",
    "mimg[ops['yrange'][0]:ops['yrange'][1],\n",
    "ops['xrange'][0]:ops['xrange'][1]] = vcorr\n",
    "mimg = mimg - mimg.min()\n",
    "mimg = mimg / mimg.max()\n",
    "\n",
    "cols = np.random.random((ncells,))\n",
    "H = np.zeros((Ly,Lx,1), np.float32)\n",
    "iM1 = iExt[1,:,:]\n",
    "H[iM1>=0,0] = cols[iM1[iM1>=0]]\n",
    "Lam1 = Lam[1,:,:]\n",
    "#V  = np.maximum(0, np.minimum(1, 0.75 * Lam1/ Lam1[Lam1>1e-10].mean()))\n",
    "V = np.minimum(1, np.expand_dims(mimg,axis=2) + S)\n",
    "S = np.expand_dims(Sext[1,:,:],axis=2)\n",
    "#plt.imshow(Lam[0,:,:],vmin=0,vmax=.015)\n",
    "rgb = hsv_to_rgb(np.concatenate((H,S,V),axis=2))\n",
    "\n",
    "plt.imshow(rgb)"
   ]
  },
  {
   "cell_type": "code",
   "execution_count": 194,
   "metadata": {},
   "outputs": [
    {
     "name": "stdout",
     "output_type": "stream",
     "text": [
      "0.06478381156921387\n"
     ]
    },
    {
     "data": {
      "text/plain": [
       "<matplotlib.image.AxesImage at 0x259b71e5d68>"
      ]
     },
     "execution_count": 194,
     "metadata": {},
     "output_type": "execute_result"
    },
    {
     "data": {
      "image/png": "[encoded data removed]",
      "text/plain": [
       "<Figure size 432x288 with 1 Axes>"
      ]
     },
     "metadata": {},
     "output_type": "display_data"
    }
   ],
   "source": [
    "from skimage.color import hsv2rgb\n",
    "ff = 1\n",
    "iM1 = iMask[ff,:,:]\n",
    "H[iM1>=0,0] = cols[iM1[iM1>=0]]\n",
    "Lam1 = Lam[ff,:,:]\n",
    "V  = np.maximum(0, np.minimum(1, 0.75 * Lam1/ Lam1[Lam1>1e-10].mean()))\n",
    "V = np.expand_dims(V,axis=2)\n",
    "#V = np.minimum(1, np.expand_dims(mimg,axis=2) + S)\n",
    "S = np.expand_dims(Smask[ff,:,:],axis=2)\n",
    "#plt.imshow(Lam[0,:,:],vmin=0,vmax=.015)\n",
    "t0=tic()\n",
    "rgb = hsv_to_rgb(np.concatenate((H,S,V),axis=2))\n",
    "print(toc(t0))\n",
    "plt.imshow(rgb)"
   ]
  },
  {
   "cell_type": "code",
   "execution_count": null,
   "metadata": {},
   "outputs": [],
   "source": [
    "iMask[int(1-iscell[n]),ypix,xpix] = n\n",
    "iExt[int(1-iscell[n]),yext,xext] = n\n",
    "Lam[int(1-iscell[n]),ypix,xpix] = lam\n",
    "Smask[int(1-iscell[n]),ypix,xpix] = 1\n",
    "Sext[int(1-iscell[n]),yext,xext] = 1 "
   ]
  },
  {
   "cell_type": "code",
   "execution_count": 152,
   "metadata": {},
   "outputs": [
    {
     "name": "stdout",
     "output_type": "stream",
     "text": [
      "0.010930538177490234\n"
     ]
    },
    {
     "data": {
      "text/plain": [
       "array([], dtype=float32)"
      ]
     },
     "execution_count": 152,
     "metadata": {},
     "output_type": "execute_result"
    }
   ],
   "source": [
    "# flip 529\n",
    "import time\n",
    "def tic():\n",
    "    return time.time()\n",
    "def toc(t0):\n",
    "    return time.time()-t0\n",
    "\n",
    "t0=tic()\n",
    "n = 529\n",
    "ffrom = int(1-iscell[n])\n",
    "fto = 1 - ffrom\n",
    "nin = iMask[ffrom,:,:]==n\n",
    "iMask[fto,nin] = n\n",
    "Lam[fto,nin] = Lam[ffrom,nin]\n",
    "Smask[fto,nin] = 1\n",
    "niext = iExt[ffrom,:,:]==n\n",
    "iExt[fto,niext] = n\n",
    "Sext[fto,niext] = 1\n",
    "\n",
    "iMask[ffrom,nin] = -1\n",
    "Lam[ffrom,nin] = 0\n",
    "Smask[ffrom,nin] = 0\n",
    "iExt[ffrom,niext] = -1\n",
    "Sext[ffrom,niext] = 0\n",
    "\n",
    "iscell[n] = ~iscell[n]\n",
    "print(toc(t0))\n",
    "\n",
    "\n",
    "Lam[1,iMask[1,:,:]==529]"
   ]
  }
 ],
 "metadata": {
  "kernelspec": {
   "display_name": "Python 3",
   "language": "python",
   "name": "python3"
  },
  "language_info": {
   "codemirror_mode": {
    "name": "ipython",
    "version": 3
   },
   "file_extension": ".py",
   "mimetype": "text/x-python",
   "name": "python",
   "nbconvert_exporter": "python",
   "pygments_lexer": "ipython3",
   "version": "3.6.5"
  }
 },
 "nbformat": 4,
 "nbformat_minor": 2
}
